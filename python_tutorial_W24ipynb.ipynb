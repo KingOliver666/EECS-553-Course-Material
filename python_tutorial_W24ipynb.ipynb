{
  "cells": [
    {
      "cell_type": "markdown",
      "metadata": {
        "id": "T7fu0XvZE9sp"
      },
      "source": [
        "# Python Tutorial\n",
        "\n",
        "This python tutorial is for EECS 553 Winter 2024.\n",
        "\n",
        "\n",
        "Instructors: Clayton Scott\n",
        "GSIs: Jianxin Zhang\n",
        "\n",
        "The original material is developed by Thomas Huang for EECS 545 Fall 2020"
      ]
    },
    {
      "cell_type": "markdown",
      "metadata": {
        "id": "Ok6e0ecwE9ss"
      },
      "source": [
        "## Installation and Configuration\n",
        "\n",
        "### Install Python:\n",
        "The best way to install Python is through Anaconda, which installs all basic packages for you. We will be using Python3.\n",
        "\n",
        "https://docs.anaconda.com/anaconda/install/\n",
        "\n",
        "Linux: https://docs.anaconda.com/anaconda/install/linux/\n",
        "\n",
        "Windows: https://docs.anaconda.com/anaconda/install/windows/\n",
        "\n",
        "Mac: https://docs.anaconda.com/anaconda/install/mac-os/\n",
        "\n",
        "\n",
        "### Python Packages\n",
        "Python comes with a wide array of useful packages for machine learning and data science. We will be taking advantage of several popular packages in this class, which are listed below along with the version we are using, what they are used for, and links to the official websites.\n",
        "\n",
        "- Python: 3.10.9\n",
        "- NumPy: 1.23.5, for scientific computing (https://numpy.org/)\n",
        "- SciPy: 1.9.3, for scientific computing (https://www.scipy.org/)\n",
        "- Matplotlib: 3.6.2, for plotting (https://matplotlib.org/)\n",
        "- Jupyter: 1.0.0, for Jupyter Notebook (more info below) (https://jupyter.org/)\n",
        "\n",
        "If you installed Python with Anaconda, then you don't have to worry about installing these packages individually; they are already installed for you. Otherwise, you have to install these packages yourself. You can use either of the following commands:\n",
        "\n",
        "`conda install PACKAGE_NAME`\n",
        "\n",
        "`pip install PACKAGE_NAME`\n",
        "\n",
        "Note that our staff will be using the Anaconda installation, so we may not be able to help you with issues or bugs that arise due to your own installations.\n",
        "\n",
        "\n",
        "### Writing your code:\n",
        "You have two main options:\n",
        "1. Jupyter: The Anaconda distribution comes with Jupyter Notebook already. A Jupyter Notebook is what you are looking at right now. It is a convinent way to write, display, and share code. The code in each cell is ran by pressing `shift + enter` and the values of variables are global within the notebook. To run a Jupyter Notebook, open the terminal in your system and type: `jupyter notebook`\n",
        "\n",
        "2. IDE: There are many popular IDEs for Python. Two popular ones are Spyder and PyCharm. Spyder is already installed if you have installed the Anaconda distribution. PyCharm (student version) can be installed from https://www.jetbrains.com/community/education/#students. You may find using an IDE helpful for homework submissions. To run a Python file called `test.py` (i.e., a `.py` file, not a `.ipynb` file), open the terminal, navigate to the directory with the file, and type `python test.py`.\n",
        "\n",
        "\n",
        "### This tutorial:\n",
        "\n",
        "You can just download the files from Canvas.\n",
        "\n",
        "#### Run the tutorial\n",
        "After installing Jupyter Notebook, open the terminal and navigate to the directory where you saved the tutorial and run:\n",
        "\n",
        "`jupyter notebook`.\n",
        "\n",
        "A link to your localhost should appear, which you can click to access Jupyter Notebook.\n"
      ]
    },
    {
      "cell_type": "markdown",
      "metadata": {
        "id": "AHp4HxZTE9st"
      },
      "source": [
        "## Basics of the language"
      ]
    },
    {
      "cell_type": "markdown",
      "metadata": {
        "id": "r_XM4ShkE9st"
      },
      "source": [
        "#### Hello world!"
      ]
    },
    {
      "cell_type": "code",
      "execution_count": null,
      "metadata": {
        "id": "NpM8xiXiE9st",
        "outputId": "301280c6-6653-4a17-aa6c-9ea5cac55a7a"
      },
      "outputs": [
        {
          "name": "stdout",
          "output_type": "stream",
          "text": [
            "Hello world!\n"
          ]
        }
      ],
      "source": [
        "print('Hello world!')"
      ]
    },
    {
      "cell_type": "markdown",
      "metadata": {
        "id": "AYnBhA2RE9su"
      },
      "source": [
        "#### Variable and type"
      ]
    },
    {
      "cell_type": "code",
      "execution_count": null,
      "metadata": {
        "id": "DYPUA0cCE9sv",
        "outputId": "7001359c-3b1f-465f-f22e-c371859f7a1a"
      },
      "outputs": [
        {
          "name": "stdout",
          "output_type": "stream",
          "text": [
            "5\n",
            "<class 'int'>\n"
          ]
        }
      ],
      "source": [
        "x = 5\n",
        "print(x)\n",
        "print(type(x))"
      ]
    },
    {
      "cell_type": "code",
      "execution_count": null,
      "metadata": {
        "pycharm": {
          "name": "#%%\n"
        },
        "id": "3XxjXMcGE9sv",
        "outputId": "40ee17c6-7cfc-460d-f7e1-a45bdc4c8676"
      },
      "outputs": [
        {
          "name": "stdout",
          "output_type": "stream",
          "text": [
            "2.0 <class 'float'>\n"
          ]
        }
      ],
      "source": [
        "y = 2.0\n",
        "print(y, type(y))"
      ]
    },
    {
      "cell_type": "markdown",
      "metadata": {
        "pycharm": {
          "name": "#%% md\n"
        },
        "id": "T-cI3qGhE9sv"
      },
      "source": [
        "#### Basic operations"
      ]
    },
    {
      "cell_type": "code",
      "execution_count": null,
      "metadata": {
        "id": "owLHqs3YE9sw",
        "outputId": "4844d342-bc3c-472d-d981-3784e87438b1"
      },
      "outputs": [
        {
          "name": "stdout",
          "output_type": "stream",
          "text": [
            "x = 5\n",
            "addition\n",
            "7\n",
            "subtraction\n",
            "3\n",
            "multiplication\n",
            "10\n",
            "division\n",
            "2.5\n",
            "integer division\n",
            "2\n",
            "exponentiation\n",
            "25\n",
            "modulo\n",
            "1\n"
          ]
        }
      ],
      "source": [
        "print('x = {}'.format(x))\n",
        "\n",
        "print('addition')\n",
        "print(x + 2)\n",
        "print('subtraction')\n",
        "print(x - 2)\n",
        "print('multiplication')\n",
        "print(x * 2)\n",
        "print('division')\n",
        "print(x / 2)\n",
        "print('integer division')\n",
        "print(x // 2)\n",
        "print('exponentiation')\n",
        "print(x ** 2)\n",
        "print('modulo')\n",
        "print(x % 2)"
      ]
    },
    {
      "cell_type": "code",
      "execution_count": null,
      "metadata": {
        "pycharm": {
          "name": "#%%\n"
        },
        "id": "NQPJ-IZQE9sw",
        "outputId": "489952af-a28c-42e2-f218-745a6c514e70"
      },
      "outputs": [
        {
          "name": "stdout",
          "output_type": "stream",
          "text": [
            "0\n",
            "2\n",
            "4\n",
            "8\n"
          ]
        }
      ],
      "source": [
        "x = 0\n",
        "print(x)\n",
        "x = x + 2\n",
        "print(x)\n",
        "x += 2\n",
        "print(x)\n",
        "x *= 2\n",
        "print(x)\n",
        "# x++ and ++x do not work in Python"
      ]
    },
    {
      "cell_type": "markdown",
      "metadata": {
        "pycharm": {
          "name": "#%% md\n"
        },
        "id": "UcntY-ciE9sw"
      },
      "source": [
        "#### Booleans (True/False)"
      ]
    },
    {
      "cell_type": "code",
      "execution_count": null,
      "metadata": {
        "id": "jw7muycHE9sx",
        "outputId": "811f4e74-15b1-425d-faf2-c2f8931549bd"
      },
      "outputs": [
        {
          "name": "stdout",
          "output_type": "stream",
          "text": [
            "True <class 'bool'>\n"
          ]
        }
      ],
      "source": [
        "t = True  # capitalization matters\n",
        "f = False\n",
        "print(t, type(t))"
      ]
    },
    {
      "cell_type": "code",
      "execution_count": null,
      "metadata": {
        "pycharm": {
          "name": "#%%\n"
        },
        "id": "ogWs6qXdE9sx",
        "outputId": "23ac602e-f7f6-4bd5-98d9-d7bf0d3e4e14"
      },
      "outputs": [
        {
          "name": "stdout",
          "output_type": "stream",
          "text": [
            "and\n",
            "False\n",
            "\n",
            "or\n",
            "True\n",
            "\n",
            "not\n",
            "False\n",
            "\n",
            "==\n",
            "False\n",
            "\n",
            "!=\n",
            "True\n"
          ]
        }
      ],
      "source": [
        "# boolean operations\n",
        "t, f = True, False\n",
        "print('and')   # equivalent to &&\n",
        "print(t and f)\n",
        "print()\n",
        "\n",
        "print('or')    # equivalent to ||\n",
        "print(t or f)\n",
        "print()\n",
        "\n",
        "print('not')\n",
        "print(not t)\n",
        "print()\n",
        "\n",
        "print('==')\n",
        "print(t == f)\n",
        "print()\n",
        "\n",
        "print('!=')\n",
        "print(t != f)"
      ]
    },
    {
      "cell_type": "markdown",
      "metadata": {
        "pycharm": {
          "name": "#%% md\n"
        },
        "id": "dgA4LPy8E9sx"
      },
      "source": [
        "#### Strings"
      ]
    },
    {
      "cell_type": "code",
      "execution_count": null,
      "metadata": {
        "id": "L1usUZVkE9sx",
        "outputId": "5792b232-f318-451b-c3c1-f4077d6aeb9f"
      },
      "outputs": [
        {
          "name": "stdout",
          "output_type": "stream",
          "text": [
            "hello world\n",
            "hello world\n"
          ]
        }
      ],
      "source": [
        "hello = 'hello' # both single and double quotes work\n",
        "world = \"world\"\n",
        "print(hello, world)\n",
        "print(hello + ' ' + world)"
      ]
    },
    {
      "cell_type": "code",
      "execution_count": null,
      "metadata": {
        "id": "E49IegGHE9sx",
        "outputId": "18cc089e-aff0-44c5-827c-7c3f9fd6337d"
      },
      "outputs": [
        {
          "name": "stdout",
          "output_type": "stream",
          "text": [
            "5 2.0 hello world\n",
            "5 2.0 hello world\n",
            "5, 2.0, hello world\n",
            "5, 2.0, hello world\n"
          ]
        }
      ],
      "source": [
        "# string formatting\n",
        "x, y = 5, 2.0\n",
        "print(x, y, hello, world)\n",
        "\n",
        "print(str(x) + ' ' + str(y) + ' ' + hello + ' ' + world)\n",
        "\n",
        "hw = '%d, %.1f, %s %s' % (x, y, hello, world)\n",
        "print(hw)\n",
        "\n",
        "hw = '{}, {}, {} {}'.format(x, y, hello, world) # recommended formatting style\n",
        "print(hw)"
      ]
    },
    {
      "cell_type": "code",
      "execution_count": null,
      "metadata": {
        "pycharm": {
          "name": "#%%\n"
        },
        "id": "OyUBj5GoE9sy",
        "outputId": "436ef47f-ca31-4310-d623-13ee00256098"
      },
      "outputs": [
        {
          "name": "stdout",
          "output_type": "stream",
          "text": [
            "Hello\n",
            " HELLO WORLD \n",
            " hello world \n",
            " hEllllo woRLd \n",
            "hElLo woRLd\n"
          ]
        }
      ],
      "source": [
        "# useful string operations\n",
        "s = 'hello'\n",
        "print(s.capitalize())          # capitalize string\n",
        "s = ' hElLo woRLd '\n",
        "print(s.upper())               # convert string to upper case\n",
        "print(s.lower())               # convert setring to lower case\n",
        "print(s.replace('lL', 'llll')) # replace all instances of one substring with another substring (case sensitive)\n",
        "print(s.strip())               # strip leading and trailing whitespaces"
      ]
    },
    {
      "cell_type": "markdown",
      "metadata": {
        "pycharm": {
          "name": "#%% md\n"
        },
        "id": "6VDZRcNfE9sy"
      },
      "source": [
        "#### Lists"
      ]
    },
    {
      "cell_type": "code",
      "execution_count": null,
      "metadata": {
        "id": "PvhYC_VpE9sy",
        "outputId": "4b027bc8-bcca-4e38-cf29-7e9615a6301e"
      },
      "outputs": [
        {
          "name": "stdout",
          "output_type": "stream",
          "text": [
            "[1, 2, 3.0, 4.5, 'hello', 'world'] <class 'list'>\n",
            "3.0\n",
            "world\n"
          ]
        }
      ],
      "source": [
        "x = [1, 2, 3.0, 4.5, 'hello', 'world']\n",
        "print(x, type(x))\n",
        "print(x[2])  # access by index\n",
        "print(x[-1]) # index can be negative (starting from the end)"
      ]
    },
    {
      "cell_type": "code",
      "execution_count": null,
      "metadata": {
        "id": "oOVkA-cLE9sy",
        "outputId": "575bf245-abb6-41ec-c275-897cf80d1a06"
      },
      "outputs": [
        {
          "name": "stdout",
          "output_type": "stream",
          "text": [
            "[1, 2, 3.0, 4.5, 'hello', 'world', 'new item1', 'new item2']\n",
            "[1, 2, 3.0, 4.5, 'hello', 'world', 'new item1', 'new item2', 'another item']\n",
            "[1, 2, 3.0, 4.5, 'hello', 'world', 'new item1', 'new item2', 'another item', ['new', 'list']]\n"
          ]
        }
      ],
      "source": [
        "# lists are mutable\n",
        "x += ['new item1', 'new item2']\n",
        "print(x)\n",
        "x.append('another item')\n",
        "print(x)\n",
        "\n",
        "# lists can contain other lists\n",
        "x.append(['new', 'list'])\n",
        "print(x)"
      ]
    },
    {
      "cell_type": "code",
      "execution_count": null,
      "metadata": {
        "pycharm": {
          "name": "#%%\n"
        },
        "id": "mrVmGumTE9sz",
        "outputId": "efe26a23-1c3c-44e4-b61d-e941622b88d7"
      },
      "outputs": [
        {
          "name": "stdout",
          "output_type": "stream",
          "text": [
            "[3, 4, 5, 6]\n",
            "[1, 2, 3]\n",
            "[3, 4]\n",
            "[5, 6]\n",
            "[1, 3, 5]\n",
            "['a', 'b', 'c', 4, 5, 6]\n"
          ]
        }
      ],
      "source": [
        "# slicing for lists (accessing sublists)\n",
        "x = [1, 2, 3, 4, 5, 6]\n",
        "print(x[2:])    # from index 2 to the end\n",
        "print(x[:3])    # from the start up to index 3 (not inclusive)\n",
        "print(x[2:4])   # from index 2 up to index 4 (not inclusive)\n",
        "print(x[-2:])   # from second to last index to the end\n",
        "print(x[0:5:2]) # get every other element\n",
        "x[:3] = ['a', 'b', 'c'] # modify the first 3 elements of the list\n",
        "print(x)"
      ]
    },
    {
      "cell_type": "code",
      "execution_count": null,
      "metadata": {
        "id": "AyYfniE_E9sz",
        "outputId": "75ef829a-7e3c-42e9-a517-3622104dd2f6"
      },
      "outputs": [
        {
          "name": "stdout",
          "output_type": "stream",
          "text": [
            "[1, 2, 0, 4]\n",
            "[1, 2, 0, 4]\n",
            "\n",
            "[1, 2, 0, 4]\n",
            "[1, 2, 3, 4]\n"
          ]
        }
      ],
      "source": [
        "# lists are passed by reference\n",
        "x = [1, 2, 3, 4]\n",
        "y = x\n",
        "y[2] = 0\n",
        "print(y)\n",
        "print(x)\n",
        "print()\n",
        "\n",
        "# copy lists\n",
        "x = [1, 2, 3, 4]\n",
        "y = x[:]\n",
        "y[2] = 0\n",
        "print(y)\n",
        "print(x)"
      ]
    },
    {
      "cell_type": "code",
      "execution_count": null,
      "metadata": {
        "id": "eBNVbclnE9sz",
        "outputId": "7ac3a67d-23d3-4062-b5dd-6d193081d37d"
      },
      "outputs": [
        {
          "name": "stdout",
          "output_type": "stream",
          "text": [
            "[1, 2, 3, 4, 2]\n",
            "length of list\n",
            "5\n",
            "max element of list\n",
            "4\n",
            "min element of list\n",
            "1\n",
            "number of occurences of element 2 in list\n",
            "2\n",
            "index of element 3 in list\n",
            "2\n",
            "reverse list\n",
            "[2, 4, 3, 2, 1]\n",
            "sort list\n",
            "[1, 2, 2, 3, 4]\n"
          ]
        }
      ],
      "source": [
        "# useful list functions\n",
        "x = [1, 2, 3, 4, 2]\n",
        "print(x)\n",
        "print('length of list')\n",
        "print(len(x))\n",
        "print('max element of list')\n",
        "print(max(x))\n",
        "print('min element of list')\n",
        "print(min(x))\n",
        "print('number of occurences of element 2 in list')\n",
        "print(x.count(2))\n",
        "print('index of element 3 in list')\n",
        "print(x.index(3))\n",
        "print('reverse list')\n",
        "x.reverse()\n",
        "print(x)\n",
        "print('sort list')\n",
        "x.sort()\n",
        "print(x)"
      ]
    },
    {
      "cell_type": "markdown",
      "metadata": {
        "id": "FzoHIH-IE9sz"
      },
      "source": [
        "#### Loops"
      ]
    },
    {
      "cell_type": "code",
      "execution_count": null,
      "metadata": {
        "pycharm": {
          "name": "#%%\n"
        },
        "id": "beZpYJfiE9sz",
        "outputId": "91ebc315-42f4-447a-bdfd-e8b89b87d425"
      },
      "outputs": [
        {
          "name": "stdout",
          "output_type": "stream",
          "text": [
            "We are at the iteration 0\n",
            "We are at the iteration 1\n",
            "We are at the iteration 2\n",
            "We are at the iteration 3\n"
          ]
        }
      ],
      "source": [
        "for i in [0, 1, 2, 3]:\n",
        "    print(\"We are at the iteration %d\" % (i))"
      ]
    },
    {
      "cell_type": "code",
      "execution_count": null,
      "metadata": {
        "pycharm": {
          "name": "#%%\n"
        },
        "id": "r98foZsCE9sz",
        "outputId": "627848db-690a-4ed8-c42e-46170d0c3918"
      },
      "outputs": [
        {
          "name": "stdout",
          "output_type": "stream",
          "text": [
            "We are at the iteration 0\n",
            "We are at the iteration 1\n",
            "We are at the iteration 2\n",
            "We are at the iteration 3\n"
          ]
        }
      ],
      "source": [
        "# same for loop\n",
        "for i in range(0, 4):\n",
        "    print(\"We are at the iteration %d\" % (i))"
      ]
    },
    {
      "cell_type": "code",
      "execution_count": null,
      "metadata": {
        "pycharm": {
          "name": "#%%\n"
        },
        "id": "R1cfUsqjE9sz",
        "outputId": "7d264b20-f45d-4309-c8a8-b8eb8cc00b61"
      },
      "outputs": [
        {
          "name": "stdout",
          "output_type": "stream",
          "text": [
            "sum of elements in arr is 45\n"
          ]
        }
      ],
      "source": [
        "# another for loop\n",
        "arr_sum = 0\n",
        "arr = [1, 2, 3, 4, 5, 6, 7, 8, 9]\n",
        "for i in arr:\n",
        "    arr_sum += i\n",
        "print('sum of elements in arr is', arr_sum)"
      ]
    },
    {
      "cell_type": "code",
      "execution_count": null,
      "metadata": {
        "id": "L3ND6o9gE9s0",
        "outputId": "3aa0aabc-a8a3-45a4-91d1-266f9477fdd0"
      },
      "outputs": [
        {
          "name": "stdout",
          "output_type": "stream",
          "text": [
            "index 0: hello\n",
            "index 1: world\n",
            "index 2: !\n"
          ]
        }
      ],
      "source": [
        "# yet another for loop\n",
        "arr = ['hello', 'world', '!']\n",
        "for i, s in enumerate(arr):\n",
        "    print('index {}: {}'.format(i, s))"
      ]
    },
    {
      "cell_type": "code",
      "execution_count": null,
      "metadata": {
        "id": "mE7sBcFJE9s0",
        "outputId": "57e0aa43-07cf-476d-d5ce-a749f36130f0"
      },
      "outputs": [
        {
          "name": "stdout",
          "output_type": "stream",
          "text": [
            "We are at the iteration 0\n",
            "We are at the iteration 1\n",
            "We are at the iteration 2\n",
            "We are at the iteration 3\n"
          ]
        }
      ],
      "source": [
        "for i in [0, 1, 2, 3]:\n",
        "    print(\"We are at the iteration %d\" % (i))"
      ]
    },
    {
      "cell_type": "code",
      "execution_count": null,
      "metadata": {
        "id": "ZLzka3BVE9s0",
        "outputId": "045a47a2-86fa-482d-a5ca-8713291b0e83"
      },
      "outputs": [
        {
          "name": "stdout",
          "output_type": "stream",
          "text": [
            "We are at the iteration 0\n",
            "We are at the iteration 1\n",
            "We are at the iteration 2\n",
            "We are at the iteration 3\n"
          ]
        }
      ],
      "source": [
        "# same for loop\n",
        "for i in range(0, 4):\n",
        "    print(\"We are at the iteration %d\" % (i))"
      ]
    },
    {
      "cell_type": "code",
      "execution_count": null,
      "metadata": {
        "id": "NGW-SsBiE9s0",
        "outputId": "765ae3e1-0bcc-43f3-ed71-4f8861456cf2"
      },
      "outputs": [
        {
          "name": "stdout",
          "output_type": "stream",
          "text": [
            "sum of elements in arr is 45\n"
          ]
        }
      ],
      "source": [
        "# another for loop\n",
        "arr_sum = 0\n",
        "arr = [1, 2, 3, 4, 5, 6, 7, 8, 9]\n",
        "for i in arr:\n",
        "    arr_sum += i\n",
        "print('sum of elements in arr is', arr_sum)"
      ]
    },
    {
      "cell_type": "code",
      "execution_count": null,
      "metadata": {
        "id": "CLf98TxnE9s0",
        "outputId": "26266c57-9a4a-472f-8fb0-0639f3fcb4a7"
      },
      "outputs": [
        {
          "name": "stdout",
          "output_type": "stream",
          "text": [
            "index 0: hello\n",
            "index 1: world\n",
            "index 2: !\n"
          ]
        }
      ],
      "source": [
        "# yet another for loop\n",
        "arr = ['hello', 'world', '!']\n",
        "for i, s in enumerate(arr):\n",
        "    print('index {}: {}'.format(i, s))"
      ]
    },
    {
      "cell_type": "code",
      "execution_count": null,
      "metadata": {
        "id": "sNgR7613E9s0",
        "outputId": "c6ba64c2-9aaa-49e7-9706-8820b68952d4"
      },
      "outputs": [
        {
          "name": "stdout",
          "output_type": "stream",
          "text": [
            "We are at the iteration 0\n",
            "We are at the iteration 1\n",
            "We are at the iteration 2\n",
            "We are at the iteration 3\n"
          ]
        }
      ],
      "source": [
        "# while loop\n",
        "n = 4\n",
        "i = 0\n",
        "while i < n:\n",
        "    print(\"We are at the iteration %d\" % (i))\n",
        "    i += 1"
      ]
    },
    {
      "cell_type": "markdown",
      "metadata": {
        "id": "2j94VLF3E9s0"
      },
      "source": [
        "#### Logic"
      ]
    },
    {
      "cell_type": "code",
      "execution_count": null,
      "metadata": {
        "id": "1Nwr52naE9s1",
        "outputId": "31bd557d-93a6-4b17-865a-27a8260088c7"
      },
      "outputs": [
        {
          "name": "stdout",
          "output_type": "stream",
          "text": [
            "3 is less than 4\n"
          ]
        }
      ],
      "source": [
        "# if/then statements\n",
        "x = 3\n",
        "if x < 4:\n",
        "    print(x, 'is less than 4')\n",
        "elif x % 2 == 0:\n",
        "    print(x, 'is even and greater than or equal to 4')\n",
        "else:\n",
        "    print(x, 'is odd and greater than or equal to 4')"
      ]
    },
    {
      "cell_type": "code",
      "execution_count": null,
      "metadata": {
        "id": "AQ1z7oBhE9s1",
        "outputId": "518689e2-53d8-44c8-ecec-7d7aab83605d"
      },
      "outputs": [
        {
          "name": "stdout",
          "output_type": "stream",
          "text": [
            "3 is either > 0 and < 4 or is even\n"
          ]
        }
      ],
      "source": [
        "# notation for logic (not, and, or)\n",
        "x = 3\n",
        "if (x > 0 and x < 4) or x % 2 == 0:\n",
        "    print(x, 'is either > 0 and < 4 or is even')"
      ]
    },
    {
      "cell_type": "code",
      "execution_count": null,
      "metadata": {
        "id": "84fgmUjFE9s1",
        "outputId": "84fb4c8a-8dc7-4f23-f204-9a96ef934b18"
      },
      "outputs": [
        {
          "name": "stdout",
          "output_type": "stream",
          "text": [
            "3 in [1, 2, 3, 4, 5, 6, 7, 8, 9]\n",
            "100 not in [1, 2, 3, 4, 5, 6, 7, 8, 9]\n"
          ]
        }
      ],
      "source": [
        "# checking if item is in list\n",
        "arr = [1, 2, 3, 4, 5, 6, 7, 8, 9]\n",
        "x = 3\n",
        "if x in arr:\n",
        "    print(x, 'in', arr)\n",
        "\n",
        "x = 100\n",
        "if x not in arr:\n",
        "    print(x, 'not in', arr)"
      ]
    },
    {
      "cell_type": "markdown",
      "metadata": {
        "id": "bQBAuRmsE9s1"
      },
      "source": [
        "#### Functions"
      ]
    },
    {
      "cell_type": "code",
      "execution_count": null,
      "metadata": {
        "id": "EtnDSuk4E9s1"
      },
      "outputs": [],
      "source": [
        "# functions\n",
        "def foo(x=1, y=2):\n",
        "    if x < y:\n",
        "        print(x, 'is <', y)\n",
        "        return True, x + y\n",
        "    else:\n",
        "        print(x, 'is >=', y)\n",
        "        return False, x - y"
      ]
    },
    {
      "cell_type": "code",
      "execution_count": null,
      "metadata": {
        "id": "meQfNRL2E9s1",
        "outputId": "32559be9-6177-4576-92e0-5ec32b16c959"
      },
      "outputs": [
        {
          "name": "stdout",
          "output_type": "stream",
          "text": [
            "2 is < 5\n",
            "True\n",
            "7\n"
          ]
        }
      ],
      "source": [
        "# calling foo\n",
        "flag, result = foo(2,5)\n",
        "print(flag)\n",
        "print(result)"
      ]
    },
    {
      "cell_type": "code",
      "execution_count": null,
      "metadata": {
        "id": "QvmmObGEE9s1",
        "outputId": "de3237d5-759f-4ccb-b17c-820c93fb2b34"
      },
      "outputs": [
        {
          "name": "stdout",
          "output_type": "stream",
          "text": [
            "5 is >= 2\n",
            "False\n",
            "3\n"
          ]
        }
      ],
      "source": [
        "# calling foo\n",
        "flag, result = foo(5,2)\n",
        "print(flag)\n",
        "print(result)"
      ]
    },
    {
      "cell_type": "code",
      "execution_count": null,
      "metadata": {
        "id": "aV34UAwgE9s1",
        "outputId": "740ce8ed-0057-4012-95d4-5d447ef0b3fe"
      },
      "outputs": [
        {
          "name": "stdout",
          "output_type": "stream",
          "text": [
            "1 is < 2\n",
            "True\n",
            "3\n"
          ]
        }
      ],
      "source": [
        "# calling foo with default arguments\n",
        "flag, result = foo()\n",
        "print(flag)\n",
        "print(result)"
      ]
    },
    {
      "cell_type": "code",
      "execution_count": null,
      "metadata": {
        "id": "68wvJMd3E9s2",
        "outputId": "3d8003fe-d776-4807-9899-895243ecfab6"
      },
      "outputs": [
        {
          "name": "stdout",
          "output_type": "stream",
          "text": [
            "[1, 2, 5]\n",
            "[1, 2, 5]\n"
          ]
        }
      ],
      "source": [
        "# be careful of passing lists as arguments to functions\n",
        "def func(y):\n",
        "    y[2] = 5\n",
        "    return y\n",
        "\n",
        "x = [1, 2, 3]\n",
        "print(func(x)) # expected behavior\n",
        "print(x)       # beware! original list is modified too\n",
        "               # to avoid this, make a copy in the function first"
      ]
    },
    {
      "cell_type": "markdown",
      "metadata": {
        "id": "GSuawPiUE9s2"
      },
      "source": [
        "#### Classes"
      ]
    },
    {
      "cell_type": "code",
      "execution_count": null,
      "metadata": {
        "id": "GkZWYhMPE9s2",
        "outputId": "35492de1-95fc-40b8-9ead-421a102dc9f8"
      },
      "outputs": [
        {
          "name": "stdout",
          "output_type": "stream",
          "text": [
            "Hello, Thomas!\n",
            "HELLO, THOMAS!\n"
          ]
        }
      ],
      "source": [
        "# classes\n",
        "class HelloWorld:\n",
        "    # constructor\n",
        "    def __init__(self, name):\n",
        "        self.name = name # instance variable\n",
        "\n",
        "    # instance method\n",
        "    def hello(self, upper=False):\n",
        "        if upper:\n",
        "            print('HELLO, {}!'.format(self.name.upper()))\n",
        "        else:\n",
        "            print('Hello, {}!'.format(self.name))\n",
        "\n",
        "hw = HelloWorld('Thomas') # construct an instance of the HelloWorld class\n",
        "hw.hello()                # call the hello instance method with default arguments\n",
        "hw.hello(upper=True)      # call the hello instance method with the parameter upper set to True"
      ]
    },
    {
      "cell_type": "markdown",
      "metadata": {
        "id": "jJWiv9a1E9s2"
      },
      "source": [
        "## NumPy Array basic manipulations"
      ]
    },
    {
      "cell_type": "code",
      "execution_count": null,
      "metadata": {
        "id": "IC8j9HQwE9s2"
      },
      "outputs": [],
      "source": [
        "# import numpy library\n",
        "import numpy as np"
      ]
    },
    {
      "cell_type": "markdown",
      "metadata": {
        "id": "rDuf1suUE9s2"
      },
      "source": [
        "#### NumPy arrays"
      ]
    },
    {
      "cell_type": "code",
      "execution_count": null,
      "metadata": {
        "id": "sHEoAq_6E9s2",
        "outputId": "44a112b0-09ab-4c7d-9032-1749a755c433"
      },
      "outputs": [
        {
          "name": "stdout",
          "output_type": "stream",
          "text": [
            "[1 2 3]\n",
            "(3,)\n",
            "int64\n",
            "[[1. 2. 3.]\n",
            " [4. 5. 6.]]\n",
            "(2, 3)\n",
            "float64\n"
          ]
        }
      ],
      "source": [
        "x = np.array([1, 2, 3]) # 1D array\n",
        "print(x)\n",
        "print(x.shape) # get shape of array\n",
        "print(x.dtype) # get datatype of array\n",
        "\n",
        "y = np.array([[1., 2., 3.], [4., 5., 6.]]) # 2D array\n",
        "print(y)\n",
        "print(y.shape) # get shape of array\n",
        "print(y.dtype) # get datatype of array"
      ]
    },
    {
      "cell_type": "code",
      "execution_count": null,
      "metadata": {
        "id": "b3v3XZSME9s2",
        "outputId": "a999d91d-f6a7-4ed5-8d5a-163db006da37"
      },
      "outputs": [
        {
          "name": "stdout",
          "output_type": "stream",
          "text": [
            "[[0. 0. 0. 0.]\n",
            " [0. 0. 0. 0.]]\n",
            "(2, 4)\n",
            "float64\n"
          ]
        }
      ],
      "source": [
        "# initialize the 2-D matrix of size d1 x d2 with zeros\n",
        "d1, d2 = 2, 4\n",
        "matrix_zeros = np.zeros([d1, d2])\n",
        "print(matrix_zeros)\n",
        "print(matrix_zeros.shape)\n",
        "print(matrix_zeros.dtype)"
      ]
    },
    {
      "cell_type": "code",
      "execution_count": null,
      "metadata": {
        "id": "8NpZMHJgE9s3",
        "outputId": "4b14921a-b177-4e8b-8f66-654270954ce9"
      },
      "outputs": [
        {
          "name": "stdout",
          "output_type": "stream",
          "text": [
            "[[1 1 1 1]\n",
            " [1 1 1 1]]\n",
            "(2, 4)\n",
            "int32\n"
          ]
        }
      ],
      "source": [
        "# initialize the 2-D matrix of size d1 x d2 with ones\n",
        "d1, d2 = 2, 4\n",
        "matrix_ones = np.ones([d1, d2], dtype=np.int32)\n",
        "print(matrix_ones)\n",
        "print(matrix_ones.shape)\n",
        "print(matrix_ones.dtype)"
      ]
    },
    {
      "cell_type": "code",
      "execution_count": null,
      "metadata": {
        "id": "sFaoILQ5E9s3",
        "outputId": "0d4574ab-414b-463f-8cf3-588680071c97"
      },
      "outputs": [
        {
          "name": "stdout",
          "output_type": "stream",
          "text": [
            "2x4 matrix with normally distributed entries: \n",
            " [[-0.38706841 -1.63556469  0.03297025  0.34487497]\n",
            " [ 1.95523812 -1.34811027 -0.70390454 -0.3753896 ]] \n",
            "\n",
            "2x4 matrix with uniform distributed entries: \n",
            " [[0.96772339 0.3246553  0.12940228 0.69599894]\n",
            " [0.02859996 0.89252157 0.02397265 0.52993131]] \n",
            "\n"
          ]
        }
      ],
      "source": [
        "# initialize the 2-D matrix of size d1 x d2 with random numbers\n",
        "d1, d2 = 2, 4\n",
        "matrix_randn = np.random.randn(d1, d2) # standard normal distribution\n",
        "print('2x4 matrix with normally distributed entries:', '\\n', matrix_randn, '\\n')\n",
        "\n",
        "matrix_rand = np.random.rand(d1, d2) # uniform distribution over [0, 1)\n",
        "print('2x4 matrix with uniform distributed entries:', '\\n', matrix_rand, '\\n')"
      ]
    },
    {
      "cell_type": "markdown",
      "metadata": {
        "id": "WVzIGLzKE9s3"
      },
      "source": [
        "#### Array indexing"
      ]
    },
    {
      "cell_type": "code",
      "execution_count": null,
      "metadata": {
        "id": "-wt5qJGoE9s3",
        "outputId": "5df1eae4-1c37-48e6-d0ec-403e2b547e95"
      },
      "outputs": [
        {
          "name": "stdout",
          "output_type": "stream",
          "text": [
            "[[ 1  2  3  4]\n",
            " [ 5  6  7  8]\n",
            " [ 9 10 11 12]]\n",
            "(3, 4)\n",
            "2\n",
            "[[  1   2   3 100]\n",
            " [  5   6   7   8]\n",
            " [  9  10  11  12]]\n"
          ]
        }
      ],
      "source": [
        "x = np.array([[1,2,3,4],[5,6,7,8],[9,10,11,12]])\n",
        "print(x)\n",
        "print(x.shape)\n",
        "print(x[0,1]) # specify index for each dimension\n",
        "x[0,3] = 100\n",
        "print(x)"
      ]
    },
    {
      "cell_type": "code",
      "execution_count": null,
      "metadata": {
        "id": "SkJEiRbPE9s3",
        "outputId": "6d61c1f7-e62e-412e-8f12-7644c6bf101d"
      },
      "outputs": [
        {
          "name": "stdout",
          "output_type": "stream",
          "text": [
            "[[  1   2   3 100]\n",
            " [  5   6   7   8]]\n",
            "(2, 4)\n",
            "[[ 1  2]\n",
            " [ 5  6]\n",
            " [ 9 10]]\n",
            "(3, 2)\n",
            "[[  2   3 100]\n",
            " [  6   7   8]]\n",
            "[[  1   2   3 100]\n",
            " [  5   6   7   8]\n",
            " [ 13  14  15  16]]\n"
          ]
        }
      ],
      "source": [
        "# slicing numpy arrays\n",
        "print(x[:2])          # first two rows\n",
        "print(x[:2].shape)\n",
        "print(x[:,:2])        # first two columns\n",
        "print(x[:,:2].shape)\n",
        "print(x[:2,1:4])      # rows 1-2, columns 2-4\n",
        "x[2] = [13,14,15,16]\n",
        "print(x)"
      ]
    },
    {
      "cell_type": "code",
      "execution_count": null,
      "metadata": {
        "id": "367UuD8SE9s3",
        "outputId": "91784f83-26a3-49e5-db13-f9c0cffb5dd0"
      },
      "outputs": [
        {
          "name": "stdout",
          "output_type": "stream",
          "text": [
            "[[  1   2   3 100]\n",
            " [ 13  14  15  16]]\n",
            "[ 3 16]\n"
          ]
        }
      ],
      "source": [
        "# use list to specify indices for each dimension\n",
        "print(x[[0,2]])       # rows 1 and 3\n",
        "print(x[[0,2],[2,3]]) # row 1 column 3, row 3 column 4"
      ]
    },
    {
      "cell_type": "markdown",
      "metadata": {
        "id": "PgSRpN9xE9s3"
      },
      "source": [
        "#### Reshaping arrays"
      ]
    },
    {
      "cell_type": "code",
      "execution_count": null,
      "metadata": {
        "id": "v5jOe6A9E9s3",
        "outputId": "11d5b888-6d76-4a98-8599-9e4b176e4f03"
      },
      "outputs": [
        {
          "name": "stdout",
          "output_type": "stream",
          "text": [
            "[ 0  1  2  3  4  5  6  7  8  9 10 11]\n",
            "[[ 0  1  2  3]\n",
            " [ 4  5  6  7]\n",
            " [ 8  9 10 11]]\n",
            "\n",
            "[ 0  1  2  3  4  5  0  7  8  9 10 11]\n",
            "[[ 0  1  2  3]\n",
            " [ 4  5  0  7]\n",
            " [ 8  9 10 11]]\n",
            "\n",
            "[[ 0  4  8]\n",
            " [ 1  5  9]\n",
            " [ 2  0 10]\n",
            " [ 3  7 11]]\n"
          ]
        }
      ],
      "source": [
        "# reshaping numpy arrays\n",
        "arr = np.arange(12)\n",
        "print(arr)\n",
        "arr2d = arr.reshape(3, 4) # convert arr from 1D to 2D with 3 rows and 4 columns\n",
        "print(arr2d)\n",
        "print()\n",
        "\n",
        "arr[6] = 0 # modifying array\n",
        "print(arr)\n",
        "print(arr2d)\n",
        "print()\n",
        "\n",
        "arr2dt = arr2d.T # transpose of array\n",
        "print(arr2dt)"
      ]
    },
    {
      "cell_type": "markdown",
      "metadata": {
        "id": "1Vw8bHlRE9s4"
      },
      "source": [
        "#### Array math"
      ]
    },
    {
      "cell_type": "code",
      "execution_count": null,
      "metadata": {
        "id": "FdsB9D3JE9s4",
        "outputId": "2b351918-a43d-4121-d783-4404caf6838b"
      },
      "outputs": [
        {
          "name": "stdout",
          "output_type": "stream",
          "text": [
            "[[1 2]\n",
            " [3 4]]\n",
            "[[5 6]\n",
            " [7 8]]\n",
            "\n",
            "[[3 4]\n",
            " [5 6]]\n",
            "[[0 1]\n",
            " [2 3]]\n",
            "\n",
            "element-wise addition\n",
            "[[ 6  8]\n",
            " [10 12]]\n",
            "[[ 6  8]\n",
            " [10 12]]\n",
            "element-wise subtraction\n",
            "[[-4 -4]\n",
            " [-4 -4]]\n",
            "[[-4 -4]\n",
            " [-4 -4]]\n",
            "element-wise product\n",
            "[[ 5 12]\n",
            " [21 32]]\n",
            "[[ 5 12]\n",
            " [21 32]]\n",
            "element-wise division\n",
            "[[0.2        0.33333333]\n",
            " [0.42857143 0.5       ]]\n",
            "[[0.2        0.33333333]\n",
            " [0.42857143 0.5       ]]\n",
            "element-wise square root\n",
            "[[1.         1.41421356]\n",
            " [1.73205081 2.        ]]\n"
          ]
        }
      ],
      "source": [
        "# numpy array math\n",
        "x = np.array([[1,2],[3,4]])\n",
        "y = np.array([[5,6],[7,8]])\n",
        "print(x)\n",
        "print(y)\n",
        "print()\n",
        "\n",
        "print(x + 2) # element-wise addition\n",
        "print(x - 1) # element-wise subtraction\n",
        "print()\n",
        "\n",
        "print('element-wise addition')\n",
        "print(x + y)\n",
        "print(np.add(x, y))\n",
        "print('element-wise subtraction')\n",
        "print(x - y)\n",
        "print(np.subtract(x, y))\n",
        "print('element-wise product')\n",
        "print(x * y)\n",
        "print(np.multiply(x, y))\n",
        "print('element-wise division')\n",
        "print(x / y)\n",
        "print(np.divide(x, y))\n",
        "print('element-wise square root')\n",
        "print(np.sqrt(x))"
      ]
    },
    {
      "cell_type": "code",
      "execution_count": null,
      "metadata": {
        "id": "0IPNFWNGE9s4",
        "outputId": "a39cd868-07c4-4c2d-cde6-16554dfa9d11"
      },
      "outputs": [
        {
          "name": "stdout",
          "output_type": "stream",
          "text": [
            "[[ 0  1  2  3]\n",
            " [ 4  5  0  7]\n",
            " [ 8  9 10 11]]\n",
            "sum up all elements of a numpy array\n",
            "60\n",
            "sum across each row\n",
            "[ 6 16 38]\n",
            "mean of all elements\n",
            "5.0\n",
            "mean across each column\n",
            "[4. 5. 4. 7.]\n",
            "std of all elements\n",
            "3.763863263545405\n"
          ]
        }
      ],
      "source": [
        "# statistics of numpy arrays\n",
        "print(arr2d)\n",
        "print('sum up all elements of a numpy array')\n",
        "print(np.sum(arr2d))\n",
        "print('sum across each row')\n",
        "print(np.sum(arr2d, axis=1))\n",
        "print('mean of all elements')\n",
        "print(np.mean(arr2d))\n",
        "print('mean across each column')\n",
        "print(np.mean(arr2d, axis=0))\n",
        "print('std of all elements')\n",
        "print(np.std(arr2d))"
      ]
    },
    {
      "cell_type": "markdown",
      "metadata": {
        "id": "CHVq4TZME9s4"
      },
      "source": [
        "#### Useful NumPy functions"
      ]
    },
    {
      "cell_type": "code",
      "execution_count": null,
      "metadata": {
        "id": "SLc_a739E9s4",
        "outputId": "7f0209d3-665a-4d3d-accc-9f9cf6c3119a"
      },
      "outputs": [
        {
          "name": "stdout",
          "output_type": "stream",
          "text": [
            "[ 0  1  2  3  4  5  6  7  8  9 10 11]\n",
            "random 3 indices are:  [5 0 3]\n"
          ]
        }
      ],
      "source": [
        "# selecting 3 indices randomly\n",
        "arr = np.arange(12)\n",
        "print(arr)\n",
        "np.random.seed(0)\n",
        "rand_idx = np.random.choice(len(arr), 3)\n",
        "print('random 3 indices are: ', rand_idx)"
      ]
    },
    {
      "cell_type": "code",
      "execution_count": null,
      "metadata": {
        "id": "8TSL4ZZsE9s4",
        "outputId": "c491323a-9e29-4606-8c58-4264cc3f9c2d"
      },
      "outputs": [
        {
          "name": "stdout",
          "output_type": "stream",
          "text": [
            "[1 2 3]\n",
            "[[4 5 6]\n",
            " [7 8 9]]\n",
            "[[ 6  7  8]\n",
            " [ 9 10 11]]\n",
            "concatenate\n",
            "[1 2 3 1 2 3 1 2 3]\n",
            "vstack\n",
            "[[ 1  2  3]\n",
            " [ 4  5  6]\n",
            " [ 7  8  9]\n",
            " [ 6  7  8]\n",
            " [ 9 10 11]]\n",
            "[[ 1  2  3]\n",
            " [ 4  5  6]\n",
            " [ 7  8  9]\n",
            " [ 6  7  8]\n",
            " [ 9 10 11]]\n",
            "hstack\n",
            "[[ 4  5  6  6  7  8]\n",
            " [ 7  8  9  9 10 11]]\n",
            "[[ 4  5  6  6  7  8]\n",
            " [ 7  8  9  9 10 11]]\n"
          ]
        }
      ],
      "source": [
        "x = np.array([1,2,3])\n",
        "y = np.array([[4,5,6],[7,8,9]])\n",
        "print(x)\n",
        "print(y)\n",
        "print(y + 2)\n",
        "print('concatenate')\n",
        "print(np.concatenate([x, x, x]))\n",
        "print('vstack')\n",
        "print(np.vstack([x, y, y+2]))\n",
        "print(np.concatenate([x.reshape(1,3), y, y+2], axis=0))\n",
        "print('hstack')\n",
        "print(np.hstack([y, y+2]))\n",
        "print(np.concatenate([y, y+2], axis=1))"
      ]
    },
    {
      "cell_type": "markdown",
      "metadata": {
        "heading_collapsed": true,
        "id": "lT7Za0rYE9s4"
      },
      "source": [
        "#### Broadcasting"
      ]
    },
    {
      "cell_type": "code",
      "execution_count": null,
      "metadata": {
        "hidden": true,
        "id": "Hn3yhcq-E9s4",
        "outputId": "cddde974-3d26-4621-9201-0cf2bf19db0c"
      },
      "outputs": [
        {
          "name": "stdout",
          "output_type": "stream",
          "text": [
            "[[1 2 3]] (1, 3)\n",
            "[[0 1 2]\n",
            " [3 4 5]\n",
            " [6 7 8]] (3, 3)\n",
            "\n",
            "[[ 1  3  5]\n",
            " [ 4  6  8]\n",
            " [ 7  9 11]]\n",
            "(3, 3)\n"
          ]
        }
      ],
      "source": [
        "x = np.array([[1,2,3]])\n",
        "y = np.arange(9).reshape(3,3)\n",
        "print(x, x.shape)\n",
        "print(y, y.shape)\n",
        "print()\n",
        "\n",
        "# if dimensions of two arrays differ in only one dimension, you can still perform mathematical operations\n",
        "z = x + y\n",
        "print(z)\n",
        "print(z.shape)"
      ]
    },
    {
      "cell_type": "markdown",
      "metadata": {
        "id": "E8dHKSFiE9s5"
      },
      "source": [
        "#### Inner product"
      ]
    },
    {
      "cell_type": "code",
      "execution_count": null,
      "metadata": {
        "id": "O570YBnRE9s5",
        "outputId": "30881b9d-f14b-48b6-cec9-ca7fc14fd835"
      },
      "outputs": [
        {
          "name": "stdout",
          "output_type": "stream",
          "text": [
            "[[1 2]\n",
            " [3 4]] (2, 2)\n",
            "[[5 6]\n",
            " [7 8]] (2, 2)\n",
            "[ 9 10] (2,)\n",
            "[11 12] (2,)\n"
          ]
        }
      ],
      "source": [
        "x = np.array([[1,2],[3,4]])\n",
        "y = np.array([[5,6],[7,8]])\n",
        "v = np.array([9,10])\n",
        "w = np.array([11,12])\n",
        "print(x, x.shape)\n",
        "print(y, y.shape)\n",
        "print(v, v.shape)\n",
        "print(w, w.shape)"
      ]
    },
    {
      "cell_type": "code",
      "execution_count": null,
      "metadata": {
        "id": "VxGhI5TvE9s5",
        "outputId": "b4d5d7f0-02ed-4e94-d656-4e4e2c49a7c0"
      },
      "outputs": [
        {
          "name": "stdout",
          "output_type": "stream",
          "text": [
            "vector inner product\n",
            "219\n",
            "219\n"
          ]
        }
      ],
      "source": [
        "print('vector inner product')\n",
        "print(np.dot(v, w))\n",
        "print(np.dot(w, v))"
      ]
    },
    {
      "cell_type": "code",
      "execution_count": null,
      "metadata": {
        "id": "u5876YRwE9s5",
        "outputId": "67bf4613-22ab-4673-dc0a-40535785db43"
      },
      "outputs": [
        {
          "name": "stdout",
          "output_type": "stream",
          "text": [
            "matrix / vector product\n",
            "[29 67]\n",
            "[127 173]\n"
          ]
        }
      ],
      "source": [
        "print('matrix / vector product')\n",
        "print(np.dot(x, v))\n",
        "print(np.dot(y, w))"
      ]
    },
    {
      "cell_type": "code",
      "execution_count": null,
      "metadata": {
        "id": "fiWunuTQE9s5",
        "outputId": "7471d165-8d15-4158-a8c3-1053a28f65d1"
      },
      "outputs": [
        {
          "name": "stdout",
          "output_type": "stream",
          "text": [
            "matrix / matrix product\n",
            "[[19 22]\n",
            " [43 50]]\n",
            "[[19 22]\n",
            " [43 50]]\n",
            "[[19 22]\n",
            " [43 50]]\n"
          ]
        }
      ],
      "source": [
        "print('matrix / matrix product')\n",
        "print(np.dot(x, y))\n",
        "print(np.matmul(x, y))\n",
        "print(x@y)"
      ]
    },
    {
      "cell_type": "markdown",
      "metadata": {
        "id": "2al5olkqE9s5"
      },
      "source": [
        "#### Linear Algebra"
      ]
    },
    {
      "cell_type": "code",
      "execution_count": null,
      "metadata": {
        "id": "lCr-6vEiE9s5",
        "outputId": "17c160c7-3004-44e5-bc7d-605c23d7ee6f"
      },
      "outputs": [
        {
          "name": "stdout",
          "output_type": "stream",
          "text": [
            "[[1 2]\n",
            " [3 4]] (2, 2)\n",
            "[ 9 10] (2,)\n"
          ]
        }
      ],
      "source": [
        "x = np.array([[1,2],[3,4]])\n",
        "v = np.array([9,10])\n",
        "print(x, x.shape)\n",
        "print(v, v.shape)"
      ]
    },
    {
      "cell_type": "code",
      "execution_count": null,
      "metadata": {
        "id": "0E35tCEsE9s5",
        "outputId": "fa30b303-11a0-41dc-e85d-2107321a1d96"
      },
      "outputs": [
        {
          "name": "stdout",
          "output_type": "stream",
          "text": [
            "13.45362404707371\n",
            "5.477225575051661\n"
          ]
        }
      ],
      "source": [
        "# norms\n",
        "print(np.linalg.norm(v, 2))     # 2-norm\n",
        "print(np.linalg.norm(x, 'fro')) # Frobenius norm"
      ]
    },
    {
      "cell_type": "code",
      "execution_count": null,
      "metadata": {
        "id": "Lo_RmvQ0E9s6",
        "outputId": "4cd6e688-018b-4d56-a217-ac0d4c7665c4"
      },
      "outputs": [
        {
          "name": "stdout",
          "output_type": "stream",
          "text": [
            "[[-2.   1. ]\n",
            " [ 1.5 -0.5]]\n"
          ]
        }
      ],
      "source": [
        "# inverse of matrix\n",
        "print(np.linalg.inv(x))"
      ]
    },
    {
      "cell_type": "code",
      "execution_count": null,
      "metadata": {
        "id": "m9h9UKFkE9s6",
        "outputId": "44e7fede-2947-48bd-cab9-652b2bc62d41"
      },
      "outputs": [
        {
          "name": "stdout",
          "output_type": "stream",
          "text": [
            "[-0.37228132  5.37228132]\n",
            "[[-0.82456484 -0.41597356]\n",
            " [ 0.56576746 -0.90937671]]\n"
          ]
        }
      ],
      "source": [
        "# eigenvalues/vectors\n",
        "values, vectors = np.linalg.eig(x)\n",
        "print(values)\n",
        "print(vectors)"
      ]
    },
    {
      "cell_type": "markdown",
      "metadata": {
        "id": "22sDynG-E9s6"
      },
      "source": [
        "##  Importing and loading files (import csv, text or image files)"
      ]
    },
    {
      "cell_type": "markdown",
      "metadata": {
        "heading_collapsed": true,
        "id": "240No-9jE9s6"
      },
      "source": [
        "#### CSV"
      ]
    },
    {
      "cell_type": "code",
      "execution_count": null,
      "metadata": {
        "hidden": true,
        "id": "GzqEjuKRE9s6",
        "outputId": "b19c021c-c460-4e95-d49c-7a0216dbda94"
      },
      "outputs": [
        {
          "name": "stdout",
          "output_type": "stream",
          "text": [
            "['INSTNM', 'INSTURL', 'NPCURL']\n",
            "['Alabama A & M University', 'www.aamu.edu/', 'www2.aamu.edu/scripts/netpricecalc/npcalc.htm']\n",
            "['University of Alabama at Birmingham', 'www.uab.edu', 'uab.studentaidcalculator.com/survey.aspx']\n",
            "['Amridge University', 'www.amridgeuniversity.edu', 'www2.amridgeuniversity.edu:9091/']\n",
            "['University of Alabama in Huntsville', 'www.uah.edu', 'finaid.uah.edu/']\n",
            "['Alabama State University', 'www.alasu.edu', 'www.alasu.edu/cost-aid/forms/calculator/index.aspx']\n"
          ]
        }
      ],
      "source": [
        "import csv\n",
        "csv_file = open('Most-Recent-Cohorts-Scorecard-Elements.csv')\n",
        "csv_file_content = csv.reader(csv_file)\n",
        "for row in csv_file_content:\n",
        "    print(row)\n",
        "'''\n",
        "\n",
        "Note:\n",
        "      _csv.reader only allows iterative calls as it only has built-in next function\n",
        "      (it's remotely similar linked list in C++), so you cannot get access to full\n",
        "      file by print csv_file_content here nor there is a built-in function within\n",
        "      the class allow you to do so.\n",
        "'''"
      ]
    },
    {
      "cell_type": "code",
      "execution_count": null,
      "metadata": {
        "id": "yQGM6JvYE9s6"
      },
      "outputs": [],
      "source": [
        "# You may also use dir to check built-in function under the class\n",
        "dir(csv_file_content)"
      ]
    },
    {
      "cell_type": "markdown",
      "metadata": {
        "heading_collapsed": true,
        "id": "kLQrULd0E9s6"
      },
      "source": [
        "#### Text"
      ]
    },
    {
      "cell_type": "code",
      "execution_count": null,
      "metadata": {
        "hidden": true,
        "id": "nn8otyywE9s6",
        "outputId": "f3680754-9057-4fc2-e7b7-944439bf65bc"
      },
      "outputs": [
        {
          "name": "stdout",
          "output_type": "stream",
          "text": [
            "b'This is a EECS 545 course\\n'\n"
          ]
        }
      ],
      "source": [
        "text = open(\"xyz.txt\", \"rb\").read()\n",
        "print(text)"
      ]
    },
    {
      "cell_type": "markdown",
      "metadata": {
        "heading_collapsed": true,
        "id": "aHQQBk-xE9s6"
      },
      "source": [
        "#### Image"
      ]
    },
    {
      "cell_type": "code",
      "execution_count": null,
      "metadata": {
        "hidden": true,
        "id": "-YuImbzYE9s6",
        "outputId": "4fa89b77-501e-4125-93da-cd593f2ad36e"
      },
      "outputs": [
        {
          "data": {
            "image/png": "[encoded data removed]",
            "text/plain": [
              "<PIL.JpegImagePlugin.JpegImageFile image mode=RGB size=400x400 at 0x7F833F8B49A0>"
            ]
          },
          "metadata": {},
          "output_type": "display_data"
        }
      ],
      "source": [
        "from PIL import Image               # to load images\n",
        "from IPython.display import display # to display images\n",
        "img = Image.open('umich.jpg')\n",
        "# img.show()\n",
        "display(img)"
      ]
    },
    {
      "cell_type": "markdown",
      "metadata": {
        "heading_collapsed": true,
        "id": "-7oRw2VdE9s7"
      },
      "source": [
        "##  Plotting techniques (matplotlib)"
      ]
    },
    {
      "cell_type": "code",
      "execution_count": null,
      "metadata": {
        "hidden": true,
        "id": "rw4OdyrRE9s7",
        "outputId": "4390e0f9-c7d9-44c7-dd8a-11dfb956cf74"
      },
      "outputs": [
        {
          "data": {
            "image/png": "[encoded data removed]",
            "text/plain": [
              "<Figure size 432x288 with 1 Axes>"
            ]
          },
          "metadata": {
            "needs_background": "light"
          },
          "output_type": "display_data"
        }
      ],
      "source": [
        "# taken from https://matplotlib.org/gallery/lines_bars_and_markers/simple_plot.html\n",
        "# https://matplotlib.org/tutorials/introductory/sample_plots.html\n",
        "# You may need to type %matplotlib inline here\n",
        "import matplotlib\n",
        "import matplotlib.pyplot as plt\n",
        "\n",
        "# Data for plotting\n",
        "t = np.arange(0.0, 2.0, 0.01)\n",
        "s = 1 + np.sin(2 * np.pi * t)\n",
        "\n",
        "fig, ax = plt.subplots()\n",
        "ax.plot(t, s)\n",
        "\n",
        "ax.set(xlabel='time (s)', ylabel='voltage (mV)',\n",
        "       title='About as simple as it gets, folks')\n",
        "ax.grid()\n",
        "\n",
        "# fig.savefig(\"test.png\")\n",
        "plt.show()"
      ]
    },
    {
      "cell_type": "code",
      "execution_count": null,
      "metadata": {
        "hidden": true,
        "id": "hnlu-lR7E9s7",
        "outputId": "9c02757d-ce68-41e6-eaa1-269b14565a1a"
      },
      "outputs": [
        {
          "data": {
            "image/png": "[encoded data removed]",
            "text/plain": [
              "<Figure size 432x288 with 2 Axes>"
            ]
          },
          "metadata": {
            "needs_background": "light"
          },
          "output_type": "display_data"
        }
      ],
      "source": [
        "x1 = np.linspace(0.0, 5.0)\n",
        "x2 = np.linspace(0.0, 2.0)\n",
        "\n",
        "y1 = np.cos(2 * np.pi * x1) * np.exp(-x1)\n",
        "y2 = np.cos(2 * np.pi * x2)\n",
        "\n",
        "fig, axes = plt.subplots(2, 1)\n",
        "axes[0].plot(x1, y1, 'o-')\n",
        "axes[0].set_title('A tale of 2 subplots')\n",
        "axes[0].set_ylabel('Damped oscillation')\n",
        "\n",
        "axes[1].plot(x2, y2, '.-')\n",
        "axes[1].set_xlabel('time (s)')\n",
        "axes[1].set_ylabel('Undamped')\n",
        "\n",
        "plt.show()"
      ]
    },
    {
      "cell_type": "code",
      "execution_count": null,
      "metadata": {
        "hidden": true,
        "id": "H4tAD29xE9s7",
        "outputId": "311bf73b-882a-463c-b5ea-12f3392ae1d2"
      },
      "outputs": [
        {
          "data": {
            "image/png": "[encoded data removed]",
            "text/plain": [
              "<Figure size 432x288 with 1 Axes>"
            ]
          },
          "metadata": {
            "needs_background": "light"
          },
          "output_type": "display_data"
        }
      ],
      "source": [
        "# make some fake data.\n",
        "a = b = np.arange(0, 3, .02)\n",
        "c = np.exp(a)\n",
        "d = c[::-1]\n",
        "\n",
        "# create plots with pre-defined labels.\n",
        "fig, ax = plt.subplots()\n",
        "ax.plot(a, c, 'k--', label='Model length')\n",
        "ax.plot(a, d, 'k:', label='Data length')\n",
        "ax.plot(a, c + d, 'k', label='Total message length')\n",
        "\n",
        "legend = ax.legend(loc='upper center', shadow=True, fontsize='x-large')\n",
        "\n",
        "# put a nicer background color on the legend.\n",
        "legend.get_frame().set_facecolor('#00FFCC')\n",
        "\n",
        "plt.show()"
      ]
    },
    {
      "cell_type": "markdown",
      "metadata": {
        "heading_collapsed": true,
        "id": "_O9YMZu_E9s7"
      },
      "source": [
        "## Additional Tips"
      ]
    },
    {
      "cell_type": "markdown",
      "metadata": {
        "heading_collapsed": true,
        "hidden": true,
        "id": "IGQuMfHSE9s7"
      },
      "source": [
        "#### Debugging in Python"
      ]
    },
    {
      "cell_type": "code",
      "execution_count": null,
      "metadata": {
        "hidden": true,
        "id": "rJ7DlPZSE9s7",
        "outputId": "0358d2c3-8268-4d6f-a036-e8280a746a52"
      },
      "outputs": [
        {
          "name": "stdout",
          "output_type": "stream",
          "text": [
            "> \u001b[0;32m<ipython-input-62-91bfe3ec9458>\u001b[0m(7)\u001b[0;36m<module>\u001b[0;34m()\u001b[0m\n",
            "\u001b[0;32m      4 \u001b[0;31m\u001b[0mc\u001b[0m\u001b[0;34m:\u001b[0m \u001b[0;32mcontinue\u001b[0m \u001b[0mthe\u001b[0m \u001b[0mcode\u001b[0m\u001b[0;34m\u001b[0m\u001b[0;34m\u001b[0m\u001b[0m\n",
            "\u001b[0m\u001b[0;32m      5 \u001b[0;31m\u001b[0mq\u001b[0m\u001b[0;34m:\u001b[0m \u001b[0mterminate\u001b[0m \u001b[0mthe\u001b[0m \u001b[0mexecution\u001b[0m\u001b[0;34m\u001b[0m\u001b[0;34m\u001b[0m\u001b[0m\n",
            "\u001b[0m\u001b[0;32m      6 \u001b[0;31m'''\n",
            "\u001b[0m\u001b[0;32m----> 7 \u001b[0;31m\u001b[0;32mfor\u001b[0m \u001b[0mi\u001b[0m \u001b[0;32min\u001b[0m \u001b[0mrange\u001b[0m\u001b[0;34m(\u001b[0m\u001b[0;36m10\u001b[0m\u001b[0;34m)\u001b[0m\u001b[0;34m:\u001b[0m\u001b[0;34m\u001b[0m\u001b[0;34m\u001b[0m\u001b[0m\n",
            "\u001b[0m\u001b[0;32m      8 \u001b[0;31m    \u001b[0mbreakpoint\u001b[0m\u001b[0;34m(\u001b[0m\u001b[0;34m)\u001b[0m\u001b[0;34m\u001b[0m\u001b[0;34m\u001b[0m\u001b[0m\n",
            "\u001b[0m\n",
            "ipdb> c\n",
            "> \u001b[0;32m<ipython-input-62-91bfe3ec9458>\u001b[0m(7)\u001b[0;36m<module>\u001b[0;34m()\u001b[0m\n",
            "\u001b[0;32m      4 \u001b[0;31m\u001b[0mc\u001b[0m\u001b[0;34m:\u001b[0m \u001b[0;32mcontinue\u001b[0m \u001b[0mthe\u001b[0m \u001b[0mcode\u001b[0m\u001b[0;34m\u001b[0m\u001b[0;34m\u001b[0m\u001b[0m\n",
            "\u001b[0m\u001b[0;32m      5 \u001b[0;31m\u001b[0mq\u001b[0m\u001b[0;34m:\u001b[0m \u001b[0mterminate\u001b[0m \u001b[0mthe\u001b[0m \u001b[0mexecution\u001b[0m\u001b[0;34m\u001b[0m\u001b[0;34m\u001b[0m\u001b[0m\n",
            "\u001b[0m\u001b[0;32m      6 \u001b[0;31m'''\n",
            "\u001b[0m\u001b[0;32m----> 7 \u001b[0;31m\u001b[0;32mfor\u001b[0m \u001b[0mi\u001b[0m \u001b[0;32min\u001b[0m \u001b[0mrange\u001b[0m\u001b[0;34m(\u001b[0m\u001b[0;36m10\u001b[0m\u001b[0;34m)\u001b[0m\u001b[0;34m:\u001b[0m\u001b[0;34m\u001b[0m\u001b[0;34m\u001b[0m\u001b[0m\n",
            "\u001b[0m\u001b[0;32m      8 \u001b[0;31m    \u001b[0mbreakpoint\u001b[0m\u001b[0;34m(\u001b[0m\u001b[0;34m)\u001b[0m\u001b[0;34m\u001b[0m\u001b[0;34m\u001b[0m\u001b[0m\n",
            "\u001b[0m\n",
            "ipdb> q\n"
          ]
        },
        {
          "ename": "BdbQuit",
          "evalue": "",
          "output_type": "error",
          "traceback": [
            "\u001b[0;31m---------------------------------------------------------------------------\u001b[0m",
            "\u001b[0;31mBdbQuit\u001b[0m                                   Traceback (most recent call last)",
            "\u001b[0;32m<ipython-input-62-91bfe3ec9458>\u001b[0m in \u001b[0;36m<module>\u001b[0;34m\u001b[0m\n\u001b[1;32m      5\u001b[0m \u001b[0mq\u001b[0m\u001b[0;34m:\u001b[0m \u001b[0mterminate\u001b[0m \u001b[0mthe\u001b[0m \u001b[0mexecution\u001b[0m\u001b[0;34m\u001b[0m\u001b[0;34m\u001b[0m\u001b[0m\n\u001b[1;32m      6\u001b[0m '''\n\u001b[0;32m----> 7\u001b[0;31m \u001b[0;32mfor\u001b[0m \u001b[0mi\u001b[0m \u001b[0;32min\u001b[0m \u001b[0mrange\u001b[0m\u001b[0;34m(\u001b[0m\u001b[0;36m10\u001b[0m\u001b[0;34m)\u001b[0m\u001b[0;34m:\u001b[0m\u001b[0;34m\u001b[0m\u001b[0;34m\u001b[0m\u001b[0m\n\u001b[0m\u001b[1;32m      8\u001b[0m     \u001b[0mbreakpoint\u001b[0m\u001b[0;34m(\u001b[0m\u001b[0;34m)\u001b[0m\u001b[0;34m\u001b[0m\u001b[0;34m\u001b[0m\u001b[0m\n",
            "\u001b[0;32m<ipython-input-62-91bfe3ec9458>\u001b[0m in \u001b[0;36m<module>\u001b[0;34m\u001b[0m\n\u001b[1;32m      5\u001b[0m \u001b[0mq\u001b[0m\u001b[0;34m:\u001b[0m \u001b[0mterminate\u001b[0m \u001b[0mthe\u001b[0m \u001b[0mexecution\u001b[0m\u001b[0;34m\u001b[0m\u001b[0;34m\u001b[0m\u001b[0m\n\u001b[1;32m      6\u001b[0m '''\n\u001b[0;32m----> 7\u001b[0;31m \u001b[0;32mfor\u001b[0m \u001b[0mi\u001b[0m \u001b[0;32min\u001b[0m \u001b[0mrange\u001b[0m\u001b[0;34m(\u001b[0m\u001b[0;36m10\u001b[0m\u001b[0;34m)\u001b[0m\u001b[0;34m:\u001b[0m\u001b[0;34m\u001b[0m\u001b[0;34m\u001b[0m\u001b[0m\n\u001b[0m\u001b[1;32m      8\u001b[0m     \u001b[0mbreakpoint\u001b[0m\u001b[0;34m(\u001b[0m\u001b[0;34m)\u001b[0m\u001b[0;34m\u001b[0m\u001b[0;34m\u001b[0m\u001b[0m\n",
            "\u001b[0;32m~/.pyenv/versions/miniconda3-4.3.30/envs/deepRL/lib/python3.9/bdb.py\u001b[0m in \u001b[0;36mtrace_dispatch\u001b[0;34m(self, frame, event, arg)\u001b[0m\n\u001b[1;32m     86\u001b[0m             \u001b[0;32mreturn\u001b[0m \u001b[0;31m# None\u001b[0m\u001b[0;34m\u001b[0m\u001b[0;34m\u001b[0m\u001b[0m\n\u001b[1;32m     87\u001b[0m         \u001b[0;32mif\u001b[0m \u001b[0mevent\u001b[0m \u001b[0;34m==\u001b[0m \u001b[0;34m'line'\u001b[0m\u001b[0;34m:\u001b[0m\u001b[0;34m\u001b[0m\u001b[0;34m\u001b[0m\u001b[0m\n\u001b[0;32m---> 88\u001b[0;31m             \u001b[0;32mreturn\u001b[0m \u001b[0mself\u001b[0m\u001b[0;34m.\u001b[0m\u001b[0mdispatch_line\u001b[0m\u001b[0;34m(\u001b[0m\u001b[0mframe\u001b[0m\u001b[0;34m)\u001b[0m\u001b[0;34m\u001b[0m\u001b[0;34m\u001b[0m\u001b[0m\n\u001b[0m\u001b[1;32m     89\u001b[0m         \u001b[0;32mif\u001b[0m \u001b[0mevent\u001b[0m \u001b[0;34m==\u001b[0m \u001b[0;34m'call'\u001b[0m\u001b[0;34m:\u001b[0m\u001b[0;34m\u001b[0m\u001b[0;34m\u001b[0m\u001b[0m\n\u001b[1;32m     90\u001b[0m             \u001b[0;32mreturn\u001b[0m \u001b[0mself\u001b[0m\u001b[0;34m.\u001b[0m\u001b[0mdispatch_call\u001b[0m\u001b[0;34m(\u001b[0m\u001b[0mframe\u001b[0m\u001b[0;34m,\u001b[0m \u001b[0marg\u001b[0m\u001b[0;34m)\u001b[0m\u001b[0;34m\u001b[0m\u001b[0;34m\u001b[0m\u001b[0m\n",
            "\u001b[0;32m~/.pyenv/versions/miniconda3-4.3.30/envs/deepRL/lib/python3.9/bdb.py\u001b[0m in \u001b[0;36mdispatch_line\u001b[0;34m(self, frame)\u001b[0m\n\u001b[1;32m    111\u001b[0m         \u001b[0;32mif\u001b[0m \u001b[0mself\u001b[0m\u001b[0;34m.\u001b[0m\u001b[0mstop_here\u001b[0m\u001b[0;34m(\u001b[0m\u001b[0mframe\u001b[0m\u001b[0;34m)\u001b[0m \u001b[0;32mor\u001b[0m \u001b[0mself\u001b[0m\u001b[0;34m.\u001b[0m\u001b[0mbreak_here\u001b[0m\u001b[0;34m(\u001b[0m\u001b[0mframe\u001b[0m\u001b[0;34m)\u001b[0m\u001b[0;34m:\u001b[0m\u001b[0;34m\u001b[0m\u001b[0;34m\u001b[0m\u001b[0m\n\u001b[1;32m    112\u001b[0m             \u001b[0mself\u001b[0m\u001b[0;34m.\u001b[0m\u001b[0muser_line\u001b[0m\u001b[0;34m(\u001b[0m\u001b[0mframe\u001b[0m\u001b[0;34m)\u001b[0m\u001b[0;34m\u001b[0m\u001b[0;34m\u001b[0m\u001b[0m\n\u001b[0;32m--> 113\u001b[0;31m             \u001b[0;32mif\u001b[0m \u001b[0mself\u001b[0m\u001b[0;34m.\u001b[0m\u001b[0mquitting\u001b[0m\u001b[0;34m:\u001b[0m \u001b[0;32mraise\u001b[0m \u001b[0mBdbQuit\u001b[0m\u001b[0;34m\u001b[0m\u001b[0;34m\u001b[0m\u001b[0m\n\u001b[0m\u001b[1;32m    114\u001b[0m         \u001b[0;32mreturn\u001b[0m \u001b[0mself\u001b[0m\u001b[0;34m.\u001b[0m\u001b[0mtrace_dispatch\u001b[0m\u001b[0;34m\u001b[0m\u001b[0;34m\u001b[0m\u001b[0m\n\u001b[1;32m    115\u001b[0m \u001b[0;34m\u001b[0m\u001b[0m\n",
            "\u001b[0;31mBdbQuit\u001b[0m: "
          ]
        }
      ],
      "source": [
        "# Set break point in code\n",
        "'''\n",
        "In debugger mode\n",
        "c: continue the code\n",
        "q: terminate the execution\n",
        "'''\n",
        "for i in range(10):\n",
        "    breakpoint()"
      ]
    },
    {
      "cell_type": "code",
      "execution_count": null,
      "metadata": {
        "hidden": true,
        "id": "-OnRyADEE9s7",
        "outputId": "20b42fef-b27a-4ddf-857b-5a4b8209b69a"
      },
      "outputs": [
        {
          "name": "stdout",
          "output_type": "stream",
          "text": [
            "Automatic pdb calling has been turned ON\n"
          ]
        }
      ],
      "source": [
        "# Debugger Mode\n",
        "%pdb"
      ]
    },
    {
      "cell_type": "code",
      "execution_count": null,
      "metadata": {
        "hidden": true,
        "id": "a9Ug1sRCE9s8",
        "outputId": "876ab3e7-2760-405e-8b12-39e359cb94c2"
      },
      "outputs": [
        {
          "ename": "ZeroDivisionError",
          "evalue": "division by zero",
          "output_type": "error",
          "traceback": [
            "\u001b[0;31m---------------------------------------------------------------------------\u001b[0m",
            "\u001b[0;31mZeroDivisionError\u001b[0m                         Traceback (most recent call last)",
            "\u001b[0;32m<ipython-input-64-7a35682b196b>\u001b[0m in \u001b[0;36m<module>\u001b[0;34m\u001b[0m\n\u001b[1;32m      1\u001b[0m \u001b[0;32mfor\u001b[0m \u001b[0mi\u001b[0m \u001b[0;32min\u001b[0m \u001b[0mrange\u001b[0m\u001b[0;34m(\u001b[0m\u001b[0;36m3\u001b[0m\u001b[0;34m)\u001b[0m\u001b[0;34m:\u001b[0m\u001b[0;34m\u001b[0m\u001b[0;34m\u001b[0m\u001b[0m\n\u001b[0;32m----> 2\u001b[0;31m     \u001b[0mprint\u001b[0m\u001b[0;34m(\u001b[0m\u001b[0;36m1\u001b[0m\u001b[0;34m/\u001b[0m\u001b[0mi\u001b[0m\u001b[0;34m)\u001b[0m\u001b[0;34m\u001b[0m\u001b[0;34m\u001b[0m\u001b[0m\n\u001b[0m",
            "\u001b[0;31mZeroDivisionError\u001b[0m: division by zero"
          ]
        },
        {
          "name": "stdout",
          "output_type": "stream",
          "text": [
            "> \u001b[0;32m<ipython-input-64-7a35682b196b>\u001b[0m(2)\u001b[0;36m<module>\u001b[0;34m()\u001b[0m\n",
            "\u001b[0;32m      1 \u001b[0;31m\u001b[0;32mfor\u001b[0m \u001b[0mi\u001b[0m \u001b[0;32min\u001b[0m \u001b[0mrange\u001b[0m\u001b[0;34m(\u001b[0m\u001b[0;36m3\u001b[0m\u001b[0;34m)\u001b[0m\u001b[0;34m:\u001b[0m\u001b[0;34m\u001b[0m\u001b[0;34m\u001b[0m\u001b[0m\n",
            "\u001b[0m\u001b[0;32m----> 2 \u001b[0;31m    \u001b[0mprint\u001b[0m\u001b[0;34m(\u001b[0m\u001b[0;36m1\u001b[0m\u001b[0;34m/\u001b[0m\u001b[0mi\u001b[0m\u001b[0;34m)\u001b[0m\u001b[0;34m\u001b[0m\u001b[0;34m\u001b[0m\u001b[0m\n",
            "\u001b[0m\n",
            "ipdb> i\n",
            "0\n",
            "ipdb> q\n"
          ]
        }
      ],
      "source": [
        "for i in range(3):\n",
        "    print(1/i)"
      ]
    },
    {
      "cell_type": "code",
      "execution_count": null,
      "metadata": {
        "hidden": true,
        "id": "3Bpmo8PWE9s8",
        "outputId": "177e4ce3-6bb6-4f9b-8746-60027e42db86"
      },
      "outputs": [
        {
          "name": "stdout",
          "output_type": "stream",
          "text": [
            "Automatic pdb calling has been turned OFF\n"
          ]
        }
      ],
      "source": [
        "#turn off the debugger mode\n",
        "%pdb"
      ]
    },
    {
      "cell_type": "markdown",
      "metadata": {
        "heading_collapsed": true,
        "hidden": true,
        "id": "-Ow70KvLE9s8"
      },
      "source": [
        "#### magic commands"
      ]
    },
    {
      "cell_type": "code",
      "execution_count": null,
      "metadata": {
        "hidden": true,
        "id": "_B9nTkYdE9s8",
        "outputId": "fc701d1a-efb2-4dae-87bc-04b3f528dbb8"
      },
      "outputs": [
        {
          "data": {
            "application/json": {
              "cell": {
                "!": "OSMagics",
                "HTML": "Other",
                "SVG": "Other",
                "bash": "Other",
                "capture": "ExecutionMagics",
                "debug": "ExecutionMagics",
                "file": "Other",
                "html": "DisplayMagics",
                "javascript": "DisplayMagics",
                "js": "DisplayMagics",
                "latex": "DisplayMagics",
                "markdown": "DisplayMagics",
                "perl": "Other",
                "prun": "ExecutionMagics",
                "pypy": "Other",
                "python": "Other",
                "python2": "Other",
                "python3": "Other",
                "ruby": "Other",
                "script": "ScriptMagics",
                "sh": "Other",
                "svg": "DisplayMagics",
                "sx": "OSMagics",
                "system": "OSMagics",
                "time": "ExecutionMagics",
                "timeit": "ExecutionMagics",
                "writefile": "OSMagics"
              },
              "line": {
                "alias": "OSMagics",
                "alias_magic": "BasicMagics",
                "autoawait": "AsyncMagics",
                "autocall": "AutoMagics",
                "automagic": "AutoMagics",
                "autosave": "KernelMagics",
                "bookmark": "OSMagics",
                "cat": "Other",
                "cd": "OSMagics",
                "clear": "KernelMagics",
                "colors": "BasicMagics",
                "conda": "PackagingMagics",
                "config": "ConfigMagics",
                "connect_info": "KernelMagics",
                "cp": "Other",
                "debug": "ExecutionMagics",
                "dhist": "OSMagics",
                "dirs": "OSMagics",
                "doctest_mode": "BasicMagics",
                "ed": "Other",
                "edit": "KernelMagics",
                "env": "OSMagics",
                "gui": "BasicMagics",
                "hist": "Other",
                "history": "HistoryMagics",
                "killbgscripts": "ScriptMagics",
                "ldir": "Other",
                "less": "KernelMagics",
                "lf": "Other",
                "lk": "Other",
                "ll": "Other",
                "load": "CodeMagics",
                "load_ext": "ExtensionMagics",
                "loadpy": "CodeMagics",
                "logoff": "LoggingMagics",
                "logon": "LoggingMagics",
                "logstart": "LoggingMagics",
                "logstate": "LoggingMagics",
                "logstop": "LoggingMagics",
                "ls": "Other",
                "lsmagic": "BasicMagics",
                "lx": "Other",
                "macro": "ExecutionMagics",
                "magic": "BasicMagics",
                "man": "KernelMagics",
                "matplotlib": "PylabMagics",
                "mkdir": "Other",
                "more": "KernelMagics",
                "mv": "Other",
                "notebook": "BasicMagics",
                "page": "BasicMagics",
                "pastebin": "CodeMagics",
                "pdb": "ExecutionMagics",
                "pdef": "NamespaceMagics",
                "pdoc": "NamespaceMagics",
                "pfile": "NamespaceMagics",
                "pinfo": "NamespaceMagics",
                "pinfo2": "NamespaceMagics",
                "pip": "PackagingMagics",
                "popd": "OSMagics",
                "pprint": "BasicMagics",
                "precision": "BasicMagics",
                "prun": "ExecutionMagics",
                "psearch": "NamespaceMagics",
                "psource": "NamespaceMagics",
                "pushd": "OSMagics",
                "pwd": "OSMagics",
                "pycat": "OSMagics",
                "pylab": "PylabMagics",
                "qtconsole": "KernelMagics",
                "quickref": "BasicMagics",
                "recall": "HistoryMagics",
                "rehashx": "OSMagics",
                "reload_ext": "ExtensionMagics",
                "rep": "Other",
                "rerun": "HistoryMagics",
                "reset": "NamespaceMagics",
                "reset_selective": "NamespaceMagics",
                "rm": "Other",
                "rmdir": "Other",
                "run": "ExecutionMagics",
                "save": "CodeMagics",
                "sc": "OSMagics",
                "set_env": "OSMagics",
                "store": "StoreMagics",
                "sx": "OSMagics",
                "system": "OSMagics",
                "tb": "ExecutionMagics",
                "time": "ExecutionMagics",
                "timeit": "ExecutionMagics",
                "unalias": "OSMagics",
                "unload_ext": "ExtensionMagics",
                "who": "NamespaceMagics",
                "who_ls": "NamespaceMagics",
                "whos": "NamespaceMagics",
                "xdel": "NamespaceMagics",
                "xmode": "BasicMagics"
              }
            },
            "text/plain": [
              "Available line magics:\n",
              "%alias  %alias_magic  %autoawait  %autocall  %automagic  %autosave  %bookmark  %cat  %cd  %clear  %colors  %conda  %config  %connect_info  %cp  %debug  %dhist  %dirs  %doctest_mode  %ed  %edit  %env  %gui  %hist  %history  %killbgscripts  %ldir  %less  %lf  %lk  %ll  %load  %load_ext  %loadpy  %logoff  %logon  %logstart  %logstate  %logstop  %ls  %lsmagic  %lx  %macro  %magic  %man  %matplotlib  %mkdir  %more  %mv  %notebook  %page  %pastebin  %pdb  %pdef  %pdoc  %pfile  %pinfo  %pinfo2  %pip  %popd  %pprint  %precision  %prun  %psearch  %psource  %pushd  %pwd  %pycat  %pylab  %qtconsole  %quickref  %recall  %rehashx  %reload_ext  %rep  %rerun  %reset  %reset_selective  %rm  %rmdir  %run  %save  %sc  %set_env  %store  %sx  %system  %tb  %time  %timeit  %unalias  %unload_ext  %who  %who_ls  %whos  %xdel  %xmode\n",
              "\n",
              "Available cell magics:\n",
              "%%!  %%HTML  %%SVG  %%bash  %%capture  %%debug  %%file  %%html  %%javascript  %%js  %%latex  %%markdown  %%perl  %%prun  %%pypy  %%python  %%python2  %%python3  %%ruby  %%script  %%sh  %%svg  %%sx  %%system  %%time  %%timeit  %%writefile\n",
              "\n",
              "Automagic is ON, % prefix IS NOT needed for line magics."
            ]
          },
          "execution_count": 66,
          "metadata": {},
          "output_type": "execute_result"
        }
      ],
      "source": [
        "%lsmagic"
      ]
    },
    {
      "cell_type": "code",
      "execution_count": null,
      "metadata": {
        "hidden": true,
        "id": "x-mD5tqUE9s8",
        "outputId": "5c9e8ca4-34da-418a-c5e9-f19ea795869d"
      },
      "outputs": [
        {
          "name": "stdout",
          "output_type": "stream",
          "text": [
            "Welcome to EECS 545!\n"
          ]
        }
      ],
      "source": [
        "%run welcome.py"
      ]
    },
    {
      "cell_type": "code",
      "execution_count": null,
      "metadata": {
        "hidden": true,
        "id": "mYl_5m2jE9s8",
        "outputId": "9e4d4fcb-1b1a-4eeb-a14c-6cd2ee81eb4c"
      },
      "outputs": [
        {
          "name": "stdout",
          "output_type": "stream",
          "text": [
            "HelloWorld\t Image\t a\t arr\t arr2d\t arr2dt\t arr_sum\t ax\t axes\t \n",
            "b\t c\t csv\t csv_file\t csv_file_content\t d\t d1\t d2\t display\t \n",
            "f\t fig\t flag\t foo\t func\t hello\t hw\t i\t img\t \n",
            "legend\t matplotlib\t matrix_ones\t matrix_rand\t matrix_randn\t matrix_zeros\t n\t np\t plt\t \n",
            "rand_idx\t result\t row\t s\t t\t text\t v\t values\t vectors\t \n",
            "w\t world\t x\t x1\t x2\t y\t y1\t y2\t z\t \n",
            "\n"
          ]
        }
      ],
      "source": [
        "%who"
      ]
    },
    {
      "cell_type": "code",
      "execution_count": null,
      "metadata": {
        "hidden": true,
        "id": "YYs56_ijE9s8",
        "outputId": "c18fb44d-ea6a-46b8-aefe-01ff42c13ab9"
      },
      "outputs": [
        {
          "data": {
            "text/plain": [
              "['HelloWorld',\n",
              " 'Image',\n",
              " 'In',\n",
              " 'Out',\n",
              " '_',\n",
              " '_66',\n",
              " '__',\n",
              " '___',\n",
              " '__builtin__',\n",
              " '__builtins__',\n",
              " '__doc__',\n",
              " '__loader__',\n",
              " '__name__',\n",
              " '__nonzero__',\n",
              " '__package__',\n",
              " '__spec__',\n",
              " '_dh',\n",
              " '_i',\n",
              " '_i1',\n",
              " '_i10',\n",
              " '_i11',\n",
              " '_i12',\n",
              " '_i13',\n",
              " '_i14',\n",
              " '_i15',\n",
              " '_i16',\n",
              " '_i17',\n",
              " '_i18',\n",
              " '_i19',\n",
              " '_i2',\n",
              " '_i20',\n",
              " '_i21',\n",
              " '_i22',\n",
              " '_i23',\n",
              " '_i24',\n",
              " '_i25',\n",
              " '_i26',\n",
              " '_i27',\n",
              " '_i28',\n",
              " '_i29',\n",
              " '_i3',\n",
              " '_i30',\n",
              " '_i31',\n",
              " '_i32',\n",
              " '_i33',\n",
              " '_i34',\n",
              " '_i35',\n",
              " '_i36',\n",
              " '_i37',\n",
              " '_i38',\n",
              " '_i39',\n",
              " '_i4',\n",
              " '_i40',\n",
              " '_i41',\n",
              " '_i42',\n",
              " '_i43',\n",
              " '_i44',\n",
              " '_i45',\n",
              " '_i46',\n",
              " '_i47',\n",
              " '_i48',\n",
              " '_i49',\n",
              " '_i5',\n",
              " '_i50',\n",
              " '_i51',\n",
              " '_i52',\n",
              " '_i53',\n",
              " '_i54',\n",
              " '_i55',\n",
              " '_i56',\n",
              " '_i57',\n",
              " '_i58',\n",
              " '_i59',\n",
              " '_i6',\n",
              " '_i60',\n",
              " '_i61',\n",
              " '_i62',\n",
              " '_i63',\n",
              " '_i64',\n",
              " '_i65',\n",
              " '_i66',\n",
              " '_i67',\n",
              " '_i68',\n",
              " '_i69',\n",
              " '_i7',\n",
              " '_i8',\n",
              " '_i9',\n",
              " '_ih',\n",
              " '_ii',\n",
              " '_iii',\n",
              " '_oh',\n",
              " 'a',\n",
              " 'arr',\n",
              " 'arr2d',\n",
              " 'arr2dt',\n",
              " 'arr_sum',\n",
              " 'ax',\n",
              " 'axes',\n",
              " 'b',\n",
              " 'c',\n",
              " 'csv',\n",
              " 'csv_file',\n",
              " 'csv_file_content',\n",
              " 'd',\n",
              " 'd1',\n",
              " 'd2',\n",
              " 'display',\n",
              " 'exit',\n",
              " 'f',\n",
              " 'fig',\n",
              " 'flag',\n",
              " 'foo',\n",
              " 'func',\n",
              " 'get_ipython',\n",
              " 'hello',\n",
              " 'hw',\n",
              " 'i',\n",
              " 'img',\n",
              " 'legend',\n",
              " 'matplotlib',\n",
              " 'matrix_ones',\n",
              " 'matrix_rand',\n",
              " 'matrix_randn',\n",
              " 'matrix_zeros',\n",
              " 'n',\n",
              " 'np',\n",
              " 'plt',\n",
              " 'quit',\n",
              " 'rand_idx',\n",
              " 'result',\n",
              " 'row',\n",
              " 's',\n",
              " 't',\n",
              " 'text',\n",
              " 'v',\n",
              " 'values',\n",
              " 'vectors',\n",
              " 'w',\n",
              " 'world',\n",
              " 'x',\n",
              " 'x1',\n",
              " 'x2',\n",
              " 'y',\n",
              " 'y1',\n",
              " 'y2',\n",
              " 'z']"
            ]
          },
          "execution_count": 69,
          "metadata": {},
          "output_type": "execute_result"
        }
      ],
      "source": [
        "dir()"
      ]
    },
    {
      "cell_type": "code",
      "execution_count": null,
      "metadata": {
        "hidden": true,
        "id": "9IdpiF7vE9s8"
      },
      "outputs": [],
      "source": [
        "?np.dot"
      ]
    }
  ],
  "metadata": {
    "kernelspec": {
      "display_name": "Python 3",
      "language": "python",
      "name": "python3"
    },
    "language_info": {
      "codemirror_mode": {
        "name": "ipython",
        "version": 3
      },
      "file_extension": ".py",
      "mimetype": "text/x-python",
      "name": "python",
      "nbconvert_exporter": "python",
      "pygments_lexer": "ipython3",
      "version": "3.9.5"
    },
    "colab": {
      "provenance": []
    }
  },
  "nbformat": 4,
  "nbformat_minor": 0
}