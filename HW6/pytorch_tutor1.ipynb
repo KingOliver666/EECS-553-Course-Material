{
 "cells": [
  {
   "cell_type": "code",
   "execution_count": 1,
   "metadata": {},
   "outputs": [],
   "source": [
    "import torch\n",
    "from torch import nn\n",
    "from torch.utils.data import DataLoader\n",
    "from torchvision import datasets\n",
    "from torchvision.transforms import ToTensor"
   ]
  },
  {
   "cell_type": "code",
   "execution_count": 2,
   "metadata": {},
   "outputs": [
    {
     "name": "stdout",
     "output_type": "stream",
     "text": [
      "Downloading http://fashion-mnist.s3-website.eu-central-1.amazonaws.com/train-images-idx3-ubyte.gz\n",
      "Downloading http://fashion-mnist.s3-website.eu-central-1.amazonaws.com/train-images-idx3-ubyte.gz to data\\FashionMNIST\\raw\\train-images-idx3-ubyte.gz\n"
     ]
    },
    {
     "name": "stderr",
     "output_type": "stream",
     "text": [
      "100%|██████████| 26421880/26421880 [00:15<00:00, 1715416.23it/s]\n"
     ]
    },
    {
     "name": "stdout",
     "output_type": "stream",
     "text": [
      "Extracting data\\FashionMNIST\\raw\\train-images-idx3-ubyte.gz to data\\FashionMNIST\\raw\n",
      "\n",
      "Downloading http://fashion-mnist.s3-website.eu-central-1.amazonaws.com/train-labels-idx1-ubyte.gz\n",
      "Downloading http://fashion-mnist.s3-website.eu-central-1.amazonaws.com/train-labels-idx1-ubyte.gz to data\\FashionMNIST\\raw\\train-labels-idx1-ubyte.gz\n"
     ]
    },
    {
     "name": "stderr",
     "output_type": "stream",
     "text": [
      "100%|██████████| 29515/29515 [00:00<00:00, 266340.68it/s]\n"
     ]
    },
    {
     "name": "stdout",
     "output_type": "stream",
     "text": [
      "Extracting data\\FashionMNIST\\raw\\train-labels-idx1-ubyte.gz to data\\FashionMNIST\\raw\n",
      "\n",
      "Downloading http://fashion-mnist.s3-website.eu-central-1.amazonaws.com/t10k-images-idx3-ubyte.gz\n",
      "Downloading http://fashion-mnist.s3-website.eu-central-1.amazonaws.com/t10k-images-idx3-ubyte.gz to data\\FashionMNIST\\raw\\t10k-images-idx3-ubyte.gz\n"
     ]
    },
    {
     "name": "stderr",
     "output_type": "stream",
     "text": [
      "100%|██████████| 4422102/4422102 [00:01<00:00, 2717470.36it/s]\n"
     ]
    },
    {
     "name": "stdout",
     "output_type": "stream",
     "text": [
      "Extracting data\\FashionMNIST\\raw\\t10k-images-idx3-ubyte.gz to data\\FashionMNIST\\raw\n",
      "\n",
      "Downloading http://fashion-mnist.s3-website.eu-central-1.amazonaws.com/t10k-labels-idx1-ubyte.gz\n",
      "Downloading http://fashion-mnist.s3-website.eu-central-1.amazonaws.com/t10k-labels-idx1-ubyte.gz to data\\FashionMNIST\\raw\\t10k-labels-idx1-ubyte.gz\n"
     ]
    },
    {
     "name": "stderr",
     "output_type": "stream",
     "text": [
      "100%|██████████| 5148/5148 [00:00<?, ?it/s]"
     ]
    },
    {
     "name": "stdout",
     "output_type": "stream",
     "text": [
      "Extracting data\\FashionMNIST\\raw\\t10k-labels-idx1-ubyte.gz to data\\FashionMNIST\\raw\n",
      "\n"
     ]
    },
    {
     "name": "stderr",
     "output_type": "stream",
     "text": [
      "\n"
     ]
    }
   ],
   "source": [
    "# Download training data from open datasets.\n",
    "training_data = datasets.FashionMNIST(\n",
    "    root=\"data\",\n",
    "    train=True,\n",
    "    download=True,\n",
    "    transform=ToTensor(),\n",
    ")\n",
    "\n",
    "# Download test data from open datasets.\n",
    "test_data = datasets.FashionMNIST(\n",
    "    root=\"data\",\n",
    "    train=False,\n",
    "    download=True,\n",
    "    transform=ToTensor(),\n",
    ")"
   ]
  },
  {
   "cell_type": "code",
   "execution_count": 3,
   "metadata": {},
   "outputs": [
    {
     "name": "stdout",
     "output_type": "stream",
     "text": [
      "Shape of X [N, C, H, W]: torch.Size([64, 1, 28, 28])\n",
      "Shape of y: torch.Size([64]) torch.int64\n"
     ]
    }
   ],
   "source": [
    "batch_size = 64\n",
    "\n",
    "# Create data loaders.\n",
    "train_dataloader = DataLoader(training_data, batch_size=batch_size)\n",
    "test_dataloader = DataLoader(test_data, batch_size=batch_size)\n",
    "\n",
    "for X, y in test_dataloader:\n",
    "    print(f\"Shape of X [N, C, H, W]: {X.shape}\")\n",
    "    print(f\"Shape of y: {y.shape} {y.dtype}\")\n",
    "    break"
   ]
  },
  {
   "cell_type": "code",
   "execution_count": 18,
   "metadata": {},
   "outputs": [
    {
     "name": "stdout",
     "output_type": "stream",
     "text": [
      "Using cuda device\n"
     ]
    }
   ],
   "source": [
    "# Get cpu, gpu or mps device for training.\n",
    "device = (\n",
    "    \"cuda\"\n",
    "    if torch.cuda.is_available()\n",
    "    else \"mps\"\n",
    "    if torch.backends.mps.is_available()\n",
    "    else \"cpu\"\n",
    ")\n",
    "print(f\"Using {device} device\")"
   ]
  },
  {
   "cell_type": "code",
   "execution_count": 19,
   "metadata": {},
   "outputs": [
    {
     "name": "stdout",
     "output_type": "stream",
     "text": [
      "NeuralNetwork(\n",
      "  (flatten): Flatten(start_dim=1, end_dim=-1)\n",
      "  (linear_relu_stack): Sequential(\n",
      "    (0): Linear(in_features=784, out_features=512, bias=True)\n",
      "    (1): ReLU()\n",
      "    (2): Linear(in_features=512, out_features=512, bias=True)\n",
      "    (3): ReLU()\n",
      "    (4): Linear(in_features=512, out_features=10, bias=True)\n",
      "  )\n",
      ")\n"
     ]
    }
   ],
   "source": [
    "class NeuralNetwork(nn.Module):\n",
    "    def __init__(self):\n",
    "        super().__init__()\n",
    "        self.flatten = nn.Flatten()\n",
    "        self.linear_relu_stack = nn.Sequential(\n",
    "            nn.Linear(28*28, 512),\n",
    "            nn.ReLU(),\n",
    "            nn.Linear(512, 512),\n",
    "            nn.ReLU(),\n",
    "            nn.Linear(512, 10)\n",
    "        )\n",
    "\n",
    "    def forward(self, x):\n",
    "        x = self.flatten(x)\n",
    "        logits = self.linear_relu_stack(x)\n",
    "        return logits\n",
    "\n",
    "model = NeuralNetwork().to(device)\n",
    "print(model)"
   ]
  },
  {
   "cell_type": "code",
   "execution_count": 20,
   "metadata": {},
   "outputs": [],
   "source": [
    "loss_fn = nn.CrossEntropyLoss()\n",
    "optimizer = torch.optim.SGD(model.parameters(), lr=1e-3)"
   ]
  },
  {
   "cell_type": "code",
   "execution_count": 21,
   "metadata": {},
   "outputs": [],
   "source": [
    "def train(dataloader, model, loss_fn, optimizer):\n",
    "    size = len(dataloader.dataset)\n",
    "    model.train()\n",
    "    for batch, (X, y) in enumerate(dataloader):\n",
    "        X, y = X.to(device), y.to(device)\n",
    "\n",
    "        # Compute prediction error\n",
    "        pred = model(X)\n",
    "        loss = loss_fn(pred, y)\n",
    "\n",
    "        # Backpropagation\n",
    "        loss.backward()\n",
    "        optimizer.step()\n",
    "        optimizer.zero_grad()\n",
    "\n",
    "        if batch % 100 == 0:\n",
    "            loss, current = loss.item(), (batch + 1) * len(X)\n",
    "            print(f\"loss: {loss:>7f}  [{current:>5d}/{size:>5d}]\")"
   ]
  },
  {
   "cell_type": "code",
   "execution_count": 22,
   "metadata": {},
   "outputs": [],
   "source": [
    "def test(dataloader, model, loss_fn):\n",
    "    size = len(dataloader.dataset)\n",
    "    num_batches = len(dataloader)\n",
    "    model.eval()\n",
    "    test_loss, correct = 0, 0\n",
    "    with torch.no_grad():\n",
    "        for X, y in dataloader:\n",
    "            X, y = X.to(device), y.to(device)\n",
    "            pred = model(X)\n",
    "            test_loss += loss_fn(pred, y).item()\n",
    "            correct += (pred.argmax(1) == y).type(torch.float).sum().item()\n",
    "    test_loss /= num_batches\n",
    "    correct /= size\n",
    "    print(f\"Test Error: \\n Accuracy: {(100*correct):>0.1f}%, Avg loss: {test_loss:>8f} \\n\")"
   ]
  },
  {
   "cell_type": "code",
   "execution_count": 23,
   "metadata": {},
   "outputs": [
    {
     "name": "stdout",
     "output_type": "stream",
     "text": [
      "Epoch 1\n",
      "-------------------------------\n",
      "loss: 2.296537  [   64/60000]\n",
      "loss: 2.281610  [ 6464/60000]\n",
      "loss: 2.264700  [12864/60000]\n",
      "loss: 2.262337  [19264/60000]\n",
      "loss: 2.237313  [25664/60000]\n",
      "loss: 2.223373  [32064/60000]\n",
      "loss: 2.230002  [38464/60000]\n",
      "loss: 2.194440  [44864/60000]\n",
      "loss: 2.186545  [51264/60000]\n",
      "loss: 2.163436  [57664/60000]\n",
      "Test Error: \n",
      " Accuracy: 51.1%, Avg loss: 2.149390 \n",
      "\n",
      "Epoch 2\n",
      "-------------------------------\n",
      "loss: 2.157819  [   64/60000]\n",
      "loss: 2.142161  [ 6464/60000]\n",
      "loss: 2.088012  [12864/60000]\n",
      "loss: 2.107450  [19264/60000]\n",
      "loss: 2.046624  [25664/60000]\n",
      "loss: 1.997271  [32064/60000]\n",
      "loss: 2.031778  [38464/60000]\n",
      "loss: 1.946137  [44864/60000]\n",
      "loss: 1.949749  [51264/60000]\n",
      "loss: 1.890015  [57664/60000]\n",
      "Test Error: \n",
      " Accuracy: 55.0%, Avg loss: 1.876974 \n",
      "\n",
      "Epoch 3\n",
      "-------------------------------\n",
      "loss: 1.906459  [   64/60000]\n",
      "loss: 1.871186  [ 6464/60000]\n",
      "loss: 1.763430  [12864/60000]\n",
      "loss: 1.809157  [19264/60000]\n",
      "loss: 1.691599  [25664/60000]\n",
      "loss: 1.655701  [32064/60000]\n",
      "loss: 1.685393  [38464/60000]\n",
      "loss: 1.584895  [44864/60000]\n",
      "loss: 1.610955  [51264/60000]\n",
      "loss: 1.512715  [57664/60000]\n",
      "Test Error: \n",
      " Accuracy: 62.5%, Avg loss: 1.522272 \n",
      "\n",
      "Epoch 4\n",
      "-------------------------------\n",
      "loss: 1.586007  [   64/60000]\n",
      "loss: 1.547859  [ 6464/60000]\n",
      "loss: 1.412980  [12864/60000]\n",
      "loss: 1.481341  [19264/60000]\n",
      "loss: 1.356008  [25664/60000]\n",
      "loss: 1.362791  [32064/60000]\n",
      "loss: 1.375113  [38464/60000]\n",
      "loss: 1.303773  [44864/60000]\n",
      "loss: 1.338968  [51264/60000]\n",
      "loss: 1.238344  [57664/60000]\n",
      "Test Error: \n",
      " Accuracy: 64.0%, Avg loss: 1.261074 \n",
      "\n",
      "Epoch 5\n",
      "-------------------------------\n",
      "loss: 1.337578  [   64/60000]\n",
      "loss: 1.314806  [ 6464/60000]\n",
      "loss: 1.164292  [12864/60000]\n",
      "loss: 1.262877  [19264/60000]\n",
      "loss: 1.130823  [25664/60000]\n",
      "loss: 1.164172  [32064/60000]\n",
      "loss: 1.180210  [38464/60000]\n",
      "loss: 1.122290  [44864/60000]\n",
      "loss: 1.163885  [51264/60000]\n",
      "loss: 1.075297  [57664/60000]\n",
      "Test Error: \n",
      " Accuracy: 65.5%, Avg loss: 1.095138 \n",
      "\n",
      "Epoch 6\n",
      "-------------------------------\n",
      "loss: 1.168412  [   64/60000]\n",
      "loss: 1.163752  [ 6464/60000]\n",
      "loss: 0.995311  [12864/60000]\n",
      "loss: 1.124215  [19264/60000]\n",
      "loss: 0.988052  [25664/60000]\n",
      "loss: 1.029362  [32064/60000]\n",
      "loss: 1.059373  [38464/60000]\n",
      "loss: 1.004285  [44864/60000]\n",
      "loss: 1.048193  [51264/60000]\n",
      "loss: 0.972963  [57664/60000]\n",
      "Test Error: \n",
      " Accuracy: 66.3%, Avg loss: 0.987107 \n",
      "\n",
      "Epoch 7\n",
      "-------------------------------\n",
      "loss: 1.049889  [   64/60000]\n",
      "loss: 1.065290  [ 6464/60000]\n",
      "loss: 0.877905  [12864/60000]\n",
      "loss: 1.031079  [19264/60000]\n",
      "loss: 0.897226  [25664/60000]\n",
      "loss: 0.933969  [32064/60000]\n",
      "loss: 0.980954  [38464/60000]\n",
      "loss: 0.926083  [44864/60000]\n",
      "loss: 0.967945  [51264/60000]\n",
      "loss: 0.904525  [57664/60000]\n",
      "Test Error: \n",
      " Accuracy: 67.6%, Avg loss: 0.913184 \n",
      "\n",
      "Epoch 8\n",
      "-------------------------------\n",
      "loss: 0.962097  [   64/60000]\n",
      "loss: 0.997082  [ 6464/60000]\n",
      "loss: 0.793055  [12864/60000]\n",
      "loss: 0.964924  [19264/60000]\n",
      "loss: 0.836635  [25664/60000]\n",
      "loss: 0.864209  [32064/60000]\n",
      "loss: 0.926458  [38464/60000]\n",
      "loss: 0.873127  [44864/60000]\n",
      "loss: 0.910147  [51264/60000]\n",
      "loss: 0.855397  [57664/60000]\n",
      "Test Error: \n",
      " Accuracy: 68.6%, Avg loss: 0.859905 \n",
      "\n",
      "Epoch 9\n",
      "-------------------------------\n",
      "loss: 0.894147  [   64/60000]\n",
      "loss: 0.946212  [ 6464/60000]\n",
      "loss: 0.729387  [12864/60000]\n",
      "loss: 0.915063  [19264/60000]\n",
      "loss: 0.793658  [25664/60000]\n",
      "loss: 0.811641  [32064/60000]\n",
      "loss: 0.885741  [38464/60000]\n",
      "loss: 0.835719  [44864/60000]\n",
      "loss: 0.866747  [51264/60000]\n",
      "loss: 0.817766  [57664/60000]\n",
      "Test Error: \n",
      " Accuracy: 69.6%, Avg loss: 0.819513 \n",
      "\n",
      "Epoch 10\n",
      "-------------------------------\n",
      "loss: 0.839476  [   64/60000]\n",
      "loss: 0.905604  [ 6464/60000]\n",
      "loss: 0.679854  [12864/60000]\n",
      "loss: 0.875949  [19264/60000]\n",
      "loss: 0.761292  [25664/60000]\n",
      "loss: 0.771159  [32064/60000]\n",
      "loss: 0.853104  [38464/60000]\n",
      "loss: 0.808040  [44864/60000]\n",
      "loss: 0.833026  [51264/60000]\n",
      "loss: 0.787606  [57664/60000]\n",
      "Test Error: \n",
      " Accuracy: 71.0%, Avg loss: 0.787462 \n",
      "\n",
      "Epoch 11\n",
      "-------------------------------\n",
      "loss: 0.793883  [   64/60000]\n",
      "loss: 0.871691  [ 6464/60000]\n",
      "loss: 0.639829  [12864/60000]\n",
      "loss: 0.844439  [19264/60000]\n",
      "loss: 0.735745  [25664/60000]\n",
      "loss: 0.739342  [32064/60000]\n",
      "loss: 0.825424  [38464/60000]\n",
      "loss: 0.786484  [44864/60000]\n",
      "loss: 0.805795  [51264/60000]\n",
      "loss: 0.762589  [57664/60000]\n",
      "Test Error: \n",
      " Accuracy: 72.2%, Avg loss: 0.760958 \n",
      "\n",
      "Epoch 12\n",
      "-------------------------------\n",
      "loss: 0.754957  [   64/60000]\n",
      "loss: 0.842024  [ 6464/60000]\n",
      "loss: 0.606618  [12864/60000]\n",
      "loss: 0.818359  [19264/60000]\n",
      "loss: 0.714590  [25664/60000]\n",
      "loss: 0.713801  [32064/60000]\n",
      "loss: 0.800956  [38464/60000]\n",
      "loss: 0.768566  [44864/60000]\n",
      "loss: 0.783052  [51264/60000]\n",
      "loss: 0.740966  [57664/60000]\n",
      "Test Error: \n",
      " Accuracy: 73.2%, Avg loss: 0.738203 \n",
      "\n",
      "Epoch 13\n",
      "-------------------------------\n",
      "loss: 0.720968  [   64/60000]\n",
      "loss: 0.815276  [ 6464/60000]\n",
      "loss: 0.578296  [12864/60000]\n",
      "loss: 0.796431  [19264/60000]\n",
      "loss: 0.696413  [25664/60000]\n",
      "loss: 0.692814  [32064/60000]\n",
      "loss: 0.778696  [38464/60000]\n",
      "loss: 0.753109  [44864/60000]\n",
      "loss: 0.763470  [51264/60000]\n",
      "loss: 0.721747  [57664/60000]\n",
      "Test Error: \n",
      " Accuracy: 74.2%, Avg loss: 0.718069 \n",
      "\n",
      "Epoch 14\n",
      "-------------------------------\n",
      "loss: 0.690953  [   64/60000]\n",
      "loss: 0.790727  [ 6464/60000]\n",
      "loss: 0.553674  [12864/60000]\n",
      "loss: 0.777426  [19264/60000]\n",
      "loss: 0.680385  [25664/60000]\n",
      "loss: 0.675296  [32064/60000]\n",
      "loss: 0.757818  [38464/60000]\n",
      "loss: 0.739227  [44864/60000]\n",
      "loss: 0.746318  [51264/60000]\n",
      "loss: 0.704362  [57664/60000]\n",
      "Test Error: \n",
      " Accuracy: 74.8%, Avg loss: 0.699932 \n",
      "\n",
      "Epoch 15\n",
      "-------------------------------\n",
      "loss: 0.664155  [   64/60000]\n",
      "loss: 0.768018  [ 6464/60000]\n",
      "loss: 0.532039  [12864/60000]\n",
      "loss: 0.760633  [19264/60000]\n",
      "loss: 0.666221  [25664/60000]\n",
      "loss: 0.660511  [32064/60000]\n",
      "loss: 0.738249  [38464/60000]\n",
      "loss: 0.726610  [44864/60000]\n",
      "loss: 0.731270  [51264/60000]\n",
      "loss: 0.688487  [57664/60000]\n",
      "Test Error: \n",
      " Accuracy: 75.7%, Avg loss: 0.683430 \n",
      "\n",
      "Epoch 16\n",
      "-------------------------------\n",
      "loss: 0.640117  [   64/60000]\n",
      "loss: 0.747097  [ 6464/60000]\n",
      "loss: 0.512818  [12864/60000]\n",
      "loss: 0.745626  [19264/60000]\n",
      "loss: 0.653624  [25664/60000]\n",
      "loss: 0.647842  [32064/60000]\n",
      "loss: 0.719937  [38464/60000]\n",
      "loss: 0.715249  [44864/60000]\n",
      "loss: 0.717887  [51264/60000]\n",
      "loss: 0.673975  [57664/60000]\n",
      "Test Error: \n",
      " Accuracy: 76.4%, Avg loss: 0.668301 \n",
      "\n",
      "Epoch 17\n",
      "-------------------------------\n",
      "loss: 0.618482  [   64/60000]\n",
      "loss: 0.727658  [ 6464/60000]\n",
      "loss: 0.495634  [12864/60000]\n",
      "loss: 0.731885  [19264/60000]\n",
      "loss: 0.642287  [25664/60000]\n",
      "loss: 0.636966  [32064/60000]\n",
      "loss: 0.702797  [38464/60000]\n",
      "loss: 0.705095  [44864/60000]\n",
      "loss: 0.705956  [51264/60000]\n",
      "loss: 0.660516  [57664/60000]\n",
      "Test Error: \n",
      " Accuracy: 76.9%, Avg loss: 0.654415 \n",
      "\n",
      "Epoch 18\n",
      "-------------------------------\n",
      "loss: 0.599133  [   64/60000]\n",
      "loss: 0.709712  [ 6464/60000]\n",
      "loss: 0.480438  [12864/60000]\n",
      "loss: 0.719310  [19264/60000]\n",
      "loss: 0.632219  [25664/60000]\n",
      "loss: 0.627636  [32064/60000]\n",
      "loss: 0.686968  [38464/60000]\n",
      "loss: 0.696189  [44864/60000]\n",
      "loss: 0.695516  [51264/60000]\n",
      "loss: 0.647933  [57664/60000]\n",
      "Test Error: \n",
      " Accuracy: 77.4%, Avg loss: 0.641684 \n",
      "\n",
      "Epoch 19\n",
      "-------------------------------\n",
      "loss: 0.581731  [   64/60000]\n",
      "loss: 0.693142  [ 6464/60000]\n",
      "loss: 0.466935  [12864/60000]\n",
      "loss: 0.707731  [19264/60000]\n",
      "loss: 0.623302  [25664/60000]\n",
      "loss: 0.619459  [32064/60000]\n",
      "loss: 0.672235  [38464/60000]\n",
      "loss: 0.688417  [44864/60000]\n",
      "loss: 0.686451  [51264/60000]\n",
      "loss: 0.636066  [57664/60000]\n",
      "Test Error: \n",
      " Accuracy: 78.0%, Avg loss: 0.630006 \n",
      "\n",
      "Epoch 20\n",
      "-------------------------------\n",
      "loss: 0.566059  [   64/60000]\n",
      "loss: 0.677841  [ 6464/60000]\n",
      "loss: 0.454798  [12864/60000]\n",
      "loss: 0.697045  [19264/60000]\n",
      "loss: 0.615397  [25664/60000]\n",
      "loss: 0.612288  [32064/60000]\n",
      "loss: 0.658517  [38464/60000]\n",
      "loss: 0.681764  [44864/60000]\n",
      "loss: 0.678649  [51264/60000]\n",
      "loss: 0.624921  [57664/60000]\n",
      "Test Error: \n",
      " Accuracy: 78.3%, Avg loss: 0.619293 \n",
      "\n",
      "Done!\n"
     ]
    }
   ],
   "source": [
    "epochs = 20\n",
    "for t in range(epochs):\n",
    "    print(f\"Epoch {t+1}\\n-------------------------------\")\n",
    "    train(train_dataloader, model, loss_fn, optimizer)\n",
    "    test(test_dataloader, model, loss_fn)\n",
    "print(\"Done!\")"
   ]
  },
  {
   "cell_type": "code",
   "execution_count": 24,
   "metadata": {},
   "outputs": [
    {
     "name": "stdout",
     "output_type": "stream",
     "text": [
      "Saved PyTorch Model State to model.pth\n"
     ]
    }
   ],
   "source": [
    "torch.save(model.state_dict(), \"model.pth\")\n",
    "print(\"Saved PyTorch Model State to model.pth\")"
   ]
  },
  {
   "cell_type": "code",
   "execution_count": 25,
   "metadata": {},
   "outputs": [
    {
     "data": {
      "text/plain": [
       "<All keys matched successfully>"
      ]
     },
     "execution_count": 25,
     "metadata": {},
     "output_type": "execute_result"
    }
   ],
   "source": [
    "model = NeuralNetwork().to(device)\n",
    "model.load_state_dict(torch.load(\"model.pth\", weights_only=True))"
   ]
  },
  {
   "cell_type": "code",
   "execution_count": 33,
   "metadata": {},
   "outputs": [
    {
     "name": "stdout",
     "output_type": "stream",
     "text": [
      "Predicted: \"Dress\", Actual: \"Dress\"\n"
     ]
    }
   ],
   "source": [
    "classes = [\n",
    "    \"T-shirt/top\",\n",
    "    \"Trouser\",\n",
    "    \"Pullover\",\n",
    "    \"Dress\",\n",
    "    \"Coat\",\n",
    "    \"Sandal\",\n",
    "    \"Shirt\",\n",
    "    \"Sneaker\",\n",
    "    \"Bag\",\n",
    "    \"Ankle boot\",\n",
    "]\n",
    "\n",
    "model.eval()\n",
    "x, y = test_data[100][0], test_data[100][1]\n",
    "with torch.no_grad():\n",
    "    x = x.to(device)\n",
    "    pred = model(x)\n",
    "    predicted, actual = classes[pred[0].argmax(0)], classes[y]\n",
    "    print(f'Predicted: \"{predicted}\", Actual: \"{actual}\"')"
   ]
  }
 ],
 "metadata": {
  "kernelspec": {
   "display_name": "base",
   "language": "python",
   "name": "python3"
  },
  "language_info": {
   "codemirror_mode": {
    "name": "ipython",
    "version": 3
   },
   "file_extension": ".py",
   "mimetype": "text/x-python",
   "name": "python",
   "nbconvert_exporter": "python",
   "pygments_lexer": "ipython3",
   "version": "3.11.7"
  }
 },
 "nbformat": 4,
 "nbformat_minor": 2
}
