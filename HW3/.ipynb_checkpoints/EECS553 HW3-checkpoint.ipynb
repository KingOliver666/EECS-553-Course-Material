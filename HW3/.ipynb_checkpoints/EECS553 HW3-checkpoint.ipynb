{
 "cells": [
  {
   "cell_type": "code",
   "execution_count": 1,
   "metadata": {},
   "outputs": [],
   "source": [
    "import numpy as np\n",
    "import pandas as pd"
   ]
  },
  {
   "cell_type": "code",
   "execution_count": 2,
   "metadata": {},
   "outputs": [],
   "source": [
    "## Import train data and the test data\n",
    "X_train = np.load('hw2p2_train_x.npy')\n",
    "X_test = np.load('hw2p2_test_x.npy')\n",
    "\n",
    "y_train = np.load('hw2p2_train_y.npy')\n",
    "y_test = np.load('hw2p2_test_y.npy')"
   ]
  },
  {
   "cell_type": "markdown",
   "metadata": {},
   "source": [
    "### Part(c)\n",
    "(i)"
   ]
  },
  {
   "cell_type": "code",
   "execution_count": 21,
   "metadata": {},
   "outputs": [],
   "source": [
    "## Get the train data where Y label is 1\n",
    "index_y_is_1 = np.where(y_train == 1)[0]\n",
    "X_label1 = X_train[index_y_is_1]"
   ]
  },
  {
   "cell_type": "code",
   "execution_count": 24,
   "metadata": {},
   "outputs": [],
   "source": [
    "## Get the train data where Y label is 0\n",
    "index_y_is_0 = np.where(y_train == 0)\n",
    "X_label0 = X_train[index_y_is_0]"
   ]
  },
  {
   "cell_type": "code",
   "execution_count": 43,
   "metadata": {},
   "outputs": [],
   "source": [
    "alpha = 1\n",
    "d = 1000"
   ]
  },
  {
   "cell_type": "code",
   "execution_count": 48,
   "metadata": {},
   "outputs": [],
   "source": [
    "## Get a list of log(p_1j) for j = 1, ... 1000\n",
    "n_k1 = np.sum(X_label1)\n",
    "p_1j = []\n",
    "for j in range(1000):\n",
    "    frequency = 0\n",
    "    for i in range(X_label1.shape[0]):\n",
    "        frequency = frequency + X_label1[i][j]\n",
    "    probs = (frequency + alpha)/(n_k1 + alpha * d)\n",
    "    p_1j.append(np.log(probs))\n",
    "\n"
   ]
  },
  {
   "cell_type": "code",
   "execution_count": 52,
   "metadata": {},
   "outputs": [
    {
     "data": {
      "text/plain": [
       "[-7.024471078678098,\n",
       " -7.717618259238043,\n",
       " -7.247614629992308,\n",
       " -7.717618259238043,\n",
       " -7.38114602261683]"
      ]
     },
     "execution_count": 52,
     "metadata": {},
     "output_type": "execute_result"
    }
   ],
   "source": [
    "p_1j[:5]"
   ]
  },
  {
   "cell_type": "code",
   "execution_count": 49,
   "metadata": {},
   "outputs": [],
   "source": [
    "## Get a list of log(p_0j) for j = 1, ... 1000\n",
    "n_k0 = np.sum(X_label0)\n",
    "p_0j = []\n",
    "for j in range(1000):\n",
    "    frequency = 0\n",
    "    for i in range(X_label0.shape[0]):\n",
    "        frequency = frequency + X_label0[i][j]\n",
    "    probs = (frequency + alpha)/(n_k0 + alpha * d)\n",
    "    p_0j.append(np.log(probs))"
   ]
  },
  {
   "cell_type": "code",
   "execution_count": 53,
   "metadata": {},
   "outputs": [
    {
     "data": {
      "text/plain": [
       "[-6.055718936974995,\n",
       " -9.552226498441476,\n",
       " -9.552226498441476,\n",
       " -9.552226498441476,\n",
       " -9.552226498441476]"
      ]
     },
     "execution_count": 53,
     "metadata": {},
     "output_type": "execute_result"
    }
   ],
   "source": [
    "p_0j[:5]"
   ]
  },
  {
   "cell_type": "markdown",
   "metadata": {},
   "source": [
    "(ii)"
   ]
  },
  {
   "cell_type": "code",
   "execution_count": 71,
   "metadata": {},
   "outputs": [],
   "source": [
    "## Compute the prior pi_0 and pi_0\n",
    "estimate_pi_1 = np.log(X_label1.shape[0] / X_train.shape[0])\n",
    "estimate_pi_0 = np.log(X_label0.shape[0] / X_train.shape[0])"
   ]
  },
  {
   "cell_type": "code",
   "execution_count": 72,
   "metadata": {},
   "outputs": [
    {
     "name": "stdout",
     "output_type": "stream",
     "text": [
      "Estimate of prior pi_0 is: -0.6965085282626502 Estimate of prior pi_1 is: -0.6897970936746632\n"
     ]
    }
   ],
   "source": [
    "print(\"Estimate of prior pi_0 is:\", estimate_pi_0, \"Estimate of prior pi_1 is:\", estimate_pi_1)"
   ]
  },
  {
   "cell_type": "markdown",
   "metadata": {},
   "source": [
    "### Part(d)"
   ]
  },
  {
   "cell_type": "code",
   "execution_count": 73,
   "metadata": {},
   "outputs": [],
   "source": [
    "prediction = []\n",
    "for i in range(X_test.shape[0]):\n",
    "    y0_value = 0\n",
    "    y1_value = 0\n",
    "### Get the value of belong to label 1 or label 0\n",
    "    for j in range(1000):\n",
    "        y0_value += X_test[i][j] * p_0j[j]\n",
    "        y1_value += X_test[i][j] * p_1j[j]\n",
    "    \n",
    "    y0_value += estimate_pi_0\n",
    "    y1_value += estimate_pi_1\n",
    "### decision rule\n",
    "    if y0_value > y1_value:\n",
    "        prediction.append(0)\n",
    "    else:\n",
    "        prediction.append(1)"
   ]
  },
  {
   "cell_type": "code",
   "execution_count": 74,
   "metadata": {},
   "outputs": [],
   "source": [
    "##define a function that to get the accuracy\n",
    "def accuracy_bayes(X, Y):\n",
    "    final_result = []\n",
    "    for i in range(len(X)):\n",
    "        if X[i] == Y[i]:\n",
    "            final_result.append(1)\n",
    "        else:\n",
    "            final_result.append(0)\n",
    "    return sum(final_result) / len(final_result)\n"
   ]
  },
  {
   "cell_type": "code",
   "execution_count": 75,
   "metadata": {},
   "outputs": [],
   "source": [
    "test_error = 1 - accuracy_bayes(prediction, y_test)"
   ]
  },
  {
   "cell_type": "code",
   "execution_count": 76,
   "metadata": {},
   "outputs": [
    {
     "name": "stdout",
     "output_type": "stream",
     "text": [
      "The test error is for the naive bayesian classifier is: 0.12594458438287148\n"
     ]
    }
   ],
   "source": [
    "print(\"The test error is for the naive bayesian classifier is:\", test_error)"
   ]
  },
  {
   "cell_type": "markdown",
   "metadata": {},
   "source": [
    "### Part(e)"
   ]
  },
  {
   "cell_type": "code",
   "execution_count": 77,
   "metadata": {},
   "outputs": [],
   "source": [
    "if_list = [1] * X_test.shape[0]"
   ]
  },
  {
   "cell_type": "code",
   "execution_count": 78,
   "metadata": {},
   "outputs": [],
   "source": [
    "if_test_error = 1 - accuracy_bayes(if_list, y_test)"
   ]
  },
  {
   "cell_type": "code",
   "execution_count": 79,
   "metadata": {},
   "outputs": [
    {
     "name": "stdout",
     "output_type": "stream",
     "text": [
      "The test error is for the naive bayesian classifier is: 0.49874055415617125\n"
     ]
    }
   ],
   "source": [
    "print(\"The test error is for the naive bayesian classifier is:\", if_test_error)"
   ]
  }
 ],
 "metadata": {
  "kernelspec": {
   "display_name": "base",
   "language": "python",
   "name": "python3"
  },
  "language_info": {
   "codemirror_mode": {
    "name": "ipython",
    "version": 3
   },
   "file_extension": ".py",
   "mimetype": "text/x-python",
   "name": "python",
   "nbconvert_exporter": "python",
   "pygments_lexer": "ipython3",
   "version": "3.11.7"
  }
 },
 "nbformat": 4,
 "nbformat_minor": 2
}
